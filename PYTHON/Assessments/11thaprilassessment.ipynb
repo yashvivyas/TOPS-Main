{
  "nbformat": 4,
  "nbformat_minor": 0,
  "metadata": {
    "colab": {
      "provenance": []
    },
    "kernelspec": {
      "name": "python3",
      "display_name": "Python 3"
    },
    "language_info": {
      "name": "python"
    }
  },
  "cells": [
    {
      "cell_type": "code",
      "execution_count": null,
      "metadata": {
        "colab": {
          "base_uri": "https://localhost:8080/"
        },
        "id": "9fa1FsivFbSZ",
        "outputId": "58d0d834-d3da-424f-8d57-f52de92f0b7a"
      },
      "outputs": [
        {
          "output_type": "stream",
          "name": "stdout",
          "text": [
            "The square root of 4 is 2.0\n",
            "9 is an odd number.\n",
            "25 is an odd number.\n",
            "The square root of 36 is 6.0\n",
            "49 is an odd number.\n",
            "The square root of 64 is 8.0\n"
          ]
        }
      ],
      "source": [
        "#1\n",
        "import math\n",
        "list1= [4,9,25, 36,49,64]\n",
        "for i in list1 :\n",
        "  if i%2==0:\n",
        "    squareroot= math.sqrt(i)\n",
        "    print(\"The square root of\",i,\"is\", squareroot)\n",
        "  else:\n",
        "    print(i,\"is an odd number.\")"
      ]
    },
    {
      "cell_type": "code",
      "source": [
        "#2\n",
        "name='yashvi'\n",
        "\n",
        "list2= ['y' , 'a' ,'s' , 'h', 'v' , 'i']\n",
        "for index,i in enumerate(name):\n",
        "  print(\"index\",index,\" = \",i )"
      ],
      "metadata": {
        "colab": {
          "base_uri": "https://localhost:8080/"
        },
        "id": "_XoM87trGq6P",
        "outputId": "3373c768-3f1d-4e03-8707-8b13d837777a"
      },
      "execution_count": null,
      "outputs": [
        {
          "output_type": "stream",
          "name": "stdout",
          "text": [
            "index 0  =  y\n",
            "index 1  =  a\n",
            "index 2  =  s\n",
            "index 3  =  h\n",
            "index 4  =  v\n",
            "index 5  =  i\n"
          ]
        }
      ]
    },
    {
      "cell_type": "code",
      "source": [
        "n= int(input(\"Enter number:\"))\n",
        "sum=0\n",
        "for i in range(1,n+1):\n",
        "  sum=sum+i\n",
        "print(sum)"
      ],
      "metadata": {
        "colab": {
          "base_uri": "https://localhost:8080/"
        },
        "id": "xcNEZUHgLX4j",
        "outputId": "0fd26089-351c-4682-f81e-288f3a1a8744"
      },
      "execution_count": null,
      "outputs": [
        {
          "output_type": "stream",
          "name": "stdout",
          "text": [
            "Enter number:5\n",
            "15\n"
          ]
        }
      ]
    }
  ]
}
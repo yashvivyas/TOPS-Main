{
  "nbformat": 4,
  "nbformat_minor": 0,
  "metadata": {
    "colab": {
      "provenance": []
    },
    "kernelspec": {
      "name": "python3",
      "display_name": "Python 3"
    },
    "language_info": {
      "name": "python"
    }
  },
  "cells": [
    {
      "cell_type": "markdown",
      "source": [
        "1. Write a Python program to print numbers from 1 to 10 using a while loop.\n",
        "2. Write a Python program to calculate the sum of numbers from 1 to 100 using a while loop.\n",
        "3. Write a Python program to print even numbers from 2 to 20 using a while loop.\n",
        "4. Write a Python program to find the factorial of a number entered by the user using a\n",
        " while loop.\n",
        "5. Write a Python program to print the Fibonacci series up to 50 using a while loop.\n",
        "6. Write a Python program to find the square of numbers from 1 to 10 using a while loop\n",
        "7. Write a Python program to print numbers from 10 to 1 in reverse order using a while loop.\n",
        "8.Write a Python program to count the number of digits in a positive integer entered by the\n",
        " user using a while loop.\n",
        "9. Write a Python program to find the sum of digits of a positive integer entered by the user\n",
        " using a while loop.\n",
        "10.Write a Python program to check if a number entered by the user is a palindrome using a\n",
        "while loop.\n",
        "11. Write a Python program to find the factorial of a number entered by the user using a\n",
        "while loop.\n",
        "12. Write a Python program to reverse a number entered by the user using a while loop.\n",
        "13. Write a Python program to print the multiplication table of a number entered by the user\n",
        " using a while loop.\n",
        "14.Write a Python program to calculate the power of a number entered by the user using a\n",
        " while loop."
      ],
      "metadata": {
        "id": "vSD7RXLV3AKA"
      }
    },
    {
      "cell_type": "code",
      "execution_count": null,
      "metadata": {
        "colab": {
          "base_uri": "https://localhost:8080/"
        },
        "id": "3uy1LLFv25Z3",
        "outputId": "53db51d7-1e71-4284-85a6-8a622ae7181c"
      },
      "outputs": [
        {
          "output_type": "stream",
          "name": "stdout",
          "text": [
            "1 2 3 4 5 6 7 8 9 10 "
          ]
        }
      ],
      "source": [
        "#1 Write a Python program to print numbers from 1 to 10 using a while loop.\n",
        "\n",
        "\n",
        "x=0\n",
        "while x<10:\n",
        "  x=x+1\n",
        "  print(x, end=' ')"
      ]
    },
    {
      "cell_type": "code",
      "source": [
        "#2 Write a Python program to calculate the sum of numbers from 1 to 100 using a while loop.\n",
        "\n",
        "\n",
        "x=1\n",
        "sum=0\n",
        "while x<=100:\n",
        "  sum=sum+x\n",
        "  x=x+1\n",
        "print(sum)"
      ],
      "metadata": {
        "colab": {
          "base_uri": "https://localhost:8080/"
        },
        "id": "jN_lCEuY36I1",
        "outputId": "e56bdb9f-4d28-40c0-d7ad-7806a5a5e151"
      },
      "execution_count": null,
      "outputs": [
        {
          "output_type": "stream",
          "name": "stdout",
          "text": [
            "5050\n"
          ]
        }
      ]
    },
    {
      "cell_type": "code",
      "source": [
        "#3 Write a Python program to print even numbers from 2 to 20 using a while loop.\n",
        "\n",
        "\n",
        "x=0\n",
        "while x<20:\n",
        "  x=x+2\n",
        "  print(x, end=' ')"
      ],
      "metadata": {
        "colab": {
          "base_uri": "https://localhost:8080/"
        },
        "id": "dZs7Iptf4Vw1",
        "outputId": "113ed24d-bb46-4e77-a590-ce10a46480d9"
      },
      "execution_count": null,
      "outputs": [
        {
          "output_type": "stream",
          "name": "stdout",
          "text": [
            "2 4 6 8 10 12 14 16 18 20 "
          ]
        }
      ]
    },
    {
      "cell_type": "code",
      "source": [
        "#4 Write a Python program to find the factorial of a number entered by the user using a while loop.\n",
        "\n",
        "\n",
        "n= int(input(\"Enter number: \"))\n",
        "x=1\n",
        "fl= 1\n",
        "while x<=n:\n",
        "  fl=fl*x\n",
        "  x=x+1\n",
        "print(fl)"
      ],
      "metadata": {
        "colab": {
          "base_uri": "https://localhost:8080/"
        },
        "id": "-s35I20T4nkp",
        "outputId": "2b579762-30a1-4c03-c928-fa364d729fc0"
      },
      "execution_count": null,
      "outputs": [
        {
          "output_type": "stream",
          "name": "stdout",
          "text": [
            "Enter number: 4\n",
            "24\n"
          ]
        }
      ]
    },
    {
      "cell_type": "code",
      "source": [
        "#5 Write a Python program to print the Fibonacci series up to 50 using a while loop. (1,1,2,3,5,8,13....)\n",
        "\n",
        "\n",
        "x=0\n",
        "y=1\n",
        "fi_s=0\n",
        "print(x)\n",
        "print(y)\n",
        "while x<=50:\n",
        "  fi_s= x + y\n",
        "  print(fi_s)\n",
        "  x=y\n",
        "  y=fi_s"
      ],
      "metadata": {
        "colab": {
          "base_uri": "https://localhost:8080/"
        },
        "id": "UjDuqmIq4t02",
        "outputId": "db323569-40cc-46ff-f178-a5466e541424"
      },
      "execution_count": null,
      "outputs": [
        {
          "output_type": "stream",
          "name": "stdout",
          "text": [
            "0\n",
            "1\n",
            "1\n",
            "2\n",
            "3\n",
            "5\n",
            "8\n",
            "13\n",
            "21\n",
            "34\n",
            "55\n",
            "89\n"
          ]
        }
      ]
    },
    {
      "cell_type": "code",
      "source": [
        "#6 Write a Python program to find the square of numbers from 1 to 10 using a while loop\n",
        "\n",
        "\n",
        "x=1\n",
        "while x<11:\n",
        "  p=x**2\n",
        "  print(p)\n",
        "  x=x+1"
      ],
      "metadata": {
        "colab": {
          "base_uri": "https://localhost:8080/"
        },
        "id": "ag_Kf5aa4w8T",
        "outputId": "8912c4c2-a915-4c72-96f5-b3eb0eb6b0e4"
      },
      "execution_count": null,
      "outputs": [
        {
          "output_type": "stream",
          "name": "stdout",
          "text": [
            "1\n",
            "4\n",
            "9\n",
            "16\n",
            "25\n",
            "36\n",
            "49\n",
            "64\n",
            "81\n",
            "100\n"
          ]
        }
      ]
    },
    {
      "cell_type": "code",
      "source": [
        "#7 Write a Python program to print numbers from 10 to 1 in reverse order using a while loop.\n",
        "\n",
        "\n",
        "x=10\n",
        "print(x)\n",
        "while x>1:\n",
        "  r=x-1\n",
        "  print(r)\n",
        "  x=x-1"
      ],
      "metadata": {
        "colab": {
          "base_uri": "https://localhost:8080/"
        },
        "id": "Ydn4s9Ir40Rv",
        "outputId": "0c978e17-0931-42e1-cc4a-d748536c3ec9"
      },
      "execution_count": null,
      "outputs": [
        {
          "output_type": "stream",
          "name": "stdout",
          "text": [
            "10\n",
            "9\n",
            "8\n",
            "7\n",
            "6\n",
            "5\n",
            "4\n",
            "3\n",
            "2\n",
            "1\n"
          ]
        }
      ]
    },
    {
      "cell_type": "code",
      "source": [
        "#8 Write a Python program to count the number of digits in a positive integer entered by the user using a while loop.\n",
        "\n",
        "\n",
        "x=int(input(\"Enter number: \"))"
      ],
      "metadata": {
        "colab": {
          "base_uri": "https://localhost:8080/",
          "height": 211
        },
        "id": "2ZFvN85p43bV",
        "outputId": "056d1705-8c8d-4dc3-ab4f-397aa6ef0e59"
      },
      "execution_count": null,
      "outputs": [
        {
          "name": "stdout",
          "output_type": "stream",
          "text": [
            "Enter number: 543\n"
          ]
        },
        {
          "output_type": "error",
          "ename": "AttributeError",
          "evalue": "'int' object has no attribute 'count'",
          "traceback": [
            "\u001b[0;31m---------------------------------------------------------------------------\u001b[0m",
            "\u001b[0;31mAttributeError\u001b[0m                            Traceback (most recent call last)",
            "\u001b[0;32m<ipython-input-29-006bdd212285>\u001b[0m in \u001b[0;36m<cell line: 5>\u001b[0;34m()\u001b[0m\n\u001b[1;32m      4\u001b[0m \u001b[0mx\u001b[0m\u001b[0;34m=\u001b[0m\u001b[0mint\u001b[0m\u001b[0;34m(\u001b[0m\u001b[0minput\u001b[0m\u001b[0;34m(\u001b[0m\u001b[0;34m\"Enter number: \"\u001b[0m\u001b[0;34m)\u001b[0m\u001b[0;34m)\u001b[0m\u001b[0;34m\u001b[0m\u001b[0;34m\u001b[0m\u001b[0m\n\u001b[1;32m      5\u001b[0m \u001b[0;32mif\u001b[0m \u001b[0mx\u001b[0m\u001b[0;34m>\u001b[0m\u001b[0;36m0\u001b[0m\u001b[0;34m:\u001b[0m\u001b[0;34m\u001b[0m\u001b[0;34m\u001b[0m\u001b[0m\n\u001b[0;32m----> 6\u001b[0;31m   \u001b[0mcount\u001b[0m\u001b[0;34m=\u001b[0m \u001b[0mx\u001b[0m\u001b[0;34m.\u001b[0m\u001b[0mcount\u001b[0m\u001b[0;34m(\u001b[0m\u001b[0;34m)\u001b[0m\u001b[0;34m\u001b[0m\u001b[0;34m\u001b[0m\u001b[0m\n\u001b[0m\u001b[1;32m      7\u001b[0m   \u001b[0mprint\u001b[0m\u001b[0;34m(\u001b[0m\u001b[0mcount\u001b[0m\u001b[0;34m)\u001b[0m\u001b[0;34m\u001b[0m\u001b[0;34m\u001b[0m\u001b[0m\n",
            "\u001b[0;31mAttributeError\u001b[0m: 'int' object has no attribute 'count'"
          ]
        }
      ]
    },
    {
      "cell_type": "code",
      "source": [
        "#9 Write a Python program to find the sum of digits of a positive integer entered by the user using a while loop.\n",
        "#DOUBT\n",
        "x=54\n",
        "y= enumerate(x)\n",
        "print(y)"
      ],
      "metadata": {
        "colab": {
          "base_uri": "https://localhost:8080/",
          "height": 193
        },
        "id": "ZFmx4N_m_ZEe",
        "outputId": "4997e298-1448-4648-a83c-6405dd6ed429"
      },
      "execution_count": null,
      "outputs": [
        {
          "output_type": "error",
          "ename": "TypeError",
          "evalue": "'int' object is not iterable",
          "traceback": [
            "\u001b[0;31m---------------------------------------------------------------------------\u001b[0m",
            "\u001b[0;31mTypeError\u001b[0m                                 Traceback (most recent call last)",
            "\u001b[0;32m<ipython-input-3-c738baf7239f>\u001b[0m in \u001b[0;36m<cell line: 4>\u001b[0;34m()\u001b[0m\n\u001b[1;32m      2\u001b[0m \u001b[0;31m#DOUBT\u001b[0m\u001b[0;34m\u001b[0m\u001b[0;34m\u001b[0m\u001b[0m\n\u001b[1;32m      3\u001b[0m \u001b[0mx\u001b[0m\u001b[0;34m=\u001b[0m\u001b[0;36m54\u001b[0m\u001b[0;34m\u001b[0m\u001b[0;34m\u001b[0m\u001b[0m\n\u001b[0;32m----> 4\u001b[0;31m \u001b[0my\u001b[0m\u001b[0;34m=\u001b[0m \u001b[0menumerate\u001b[0m\u001b[0;34m(\u001b[0m\u001b[0mx\u001b[0m\u001b[0;34m)\u001b[0m\u001b[0;34m\u001b[0m\u001b[0;34m\u001b[0m\u001b[0m\n\u001b[0m\u001b[1;32m      5\u001b[0m \u001b[0mprint\u001b[0m\u001b[0;34m(\u001b[0m\u001b[0my\u001b[0m\u001b[0;34m)\u001b[0m\u001b[0;34m\u001b[0m\u001b[0;34m\u001b[0m\u001b[0m\n",
            "\u001b[0;31mTypeError\u001b[0m: 'int' object is not iterable"
          ]
        }
      ]
    },
    {
      "cell_type": "code",
      "source": [
        "#10 Write a Python program to check if a number entered by the user is a palindrome using a while loop.\n",
        "#DOUBT\n"
      ],
      "metadata": {
        "id": "XQM5cusZ_aeN"
      },
      "execution_count": null,
      "outputs": []
    },
    {
      "cell_type": "code",
      "source": [
        "#11 Write a Python program to find the factorial of a number entered by the user using a while loop.\n",
        "\n",
        "n= int(input(\"Enter number: \"))\n",
        "x=1\n",
        "fl= 1\n",
        "while x<=n:\n",
        "  fl=fl*x\n",
        "  x=x+1\n",
        "print(fl)"
      ],
      "metadata": {
        "id": "dORf-btW_b-C",
        "colab": {
          "base_uri": "https://localhost:8080/"
        },
        "outputId": "7ce02a1d-12dd-4f13-a013-511fc32de348"
      },
      "execution_count": null,
      "outputs": [
        {
          "output_type": "stream",
          "name": "stdout",
          "text": [
            "Enter number: 5\n",
            "120\n"
          ]
        }
      ]
    },
    {
      "cell_type": "code",
      "source": [
        "#12Write a Python program to reverse a number entered by the user using a while loop.\n",
        "#DOUBT\n"
      ],
      "metadata": {
        "id": "TdscKy548itV"
      },
      "execution_count": null,
      "outputs": []
    },
    {
      "cell_type": "code",
      "source": [
        "#13 Write a Python program to print the multiplication table of a number entered by the user using a while loop.\n",
        "\n",
        "n= int(input(\"Enter a number: \"))\n",
        "x=1\n",
        "while x<=10:\n",
        "  p=n*x\n",
        "  print(n,'x',x,'=',p)\n",
        "  x=x+1"
      ],
      "metadata": {
        "id": "UOpHqA7k8jK3",
        "colab": {
          "base_uri": "https://localhost:8080/"
        },
        "outputId": "bf8ca0fb-8fec-4d9d-f0bb-a516d13b081e"
      },
      "execution_count": 5,
      "outputs": [
        {
          "output_type": "stream",
          "name": "stdout",
          "text": [
            "Enter a number: 4\n",
            "4 x 1 = 4\n",
            "4 x 2 = 8\n",
            "4 x 3 = 12\n",
            "4 x 4 = 16\n",
            "4 x 5 = 20\n",
            "4 x 6 = 24\n",
            "4 x 7 = 28\n",
            "4 x 8 = 32\n",
            "4 x 9 = 36\n",
            "4 x 10 = 40\n"
          ]
        }
      ]
    },
    {
      "cell_type": "code",
      "source": [
        "#14 Write a Python program to calculate the power of a number entered by the user using a while loop.\n",
        "#doubt\n",
        "\n",
        "\n",
        "n= int(input(\"Enter a number: \"))\n",
        "x= int(input(\"Enter required base: \"))\n",
        "p=0\n",
        "while p>0:\n",
        "  if n%x==0:\n",
        "    p=p+1\n",
        "  else:\n",
        "   p==p\n",
        "  print('Power is: ', p)"
      ],
      "metadata": {
        "id": "sSYTOJjT8jN4",
        "colab": {
          "base_uri": "https://localhost:8080/"
        },
        "outputId": "5740786f-cb74-40b9-97ee-3fa9efcf049e"
      },
      "execution_count": 12,
      "outputs": [
        {
          "name": "stdout",
          "output_type": "stream",
          "text": [
            "Enter a number: 81\n",
            "Enter required base: 3\n"
          ]
        }
      ]
    }
  ]
}
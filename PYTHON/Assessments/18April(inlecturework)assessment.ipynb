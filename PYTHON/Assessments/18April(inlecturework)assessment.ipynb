{
  "nbformat": 4,
  "nbformat_minor": 0,
  "metadata": {
    "colab": {
      "provenance": []
    },
    "kernelspec": {
      "name": "python3",
      "display_name": "Python 3"
    },
    "language_info": {
      "name": "python"
    }
  },
  "cells": [
    {
      "cell_type": "markdown",
      "source": [
        "1- Write a function that calculates the area of a rectangle given its length and width.\n",
        "\n",
        "Description: Create a function that takes two parameters, length and width, and returns the area of the rectangle calculated using the formula: area = length * width.\n",
        "\n",
        "2- Create a function that converts temperature from Celsius to Fahrenheit.\n",
        "\n",
        "Description: Define a function that accepts a temperature value in Celsius and returns its equivalent in Fahrenheit using the conversion formula: Fahrenheit = (Celsius * 9/5) + 32.\n",
        "\n",
        "3- Write a function to find the factorial of a number.\n",
        "\n",
        "Description: Implement a function that computes the factorial of a given number using recursion or iteration."
      ],
      "metadata": {
        "id": "9UGKFhRLOaau"
      }
    },
    {
      "cell_type": "code",
      "execution_count": 1,
      "metadata": {
        "id": "MzWrIgJAOaB-"
      },
      "outputs": [],
      "source": [
        "#1 Write a function that calculates the area of a rectangle given its length and width.\n",
        "\n",
        "\n",
        "def area_of_rectangle(length,width):\n",
        "  area_of_rectangle= length*width\n",
        "\n",
        "  return print('The area of rectangle is=',area_of_rectangle)"
      ]
    },
    {
      "cell_type": "code",
      "source": [
        "area_of_rectangle(5,4)"
      ],
      "metadata": {
        "colab": {
          "base_uri": "https://localhost:8080/"
        },
        "id": "AVnCU7iPPgQS",
        "outputId": "da41133b-66ad-4a11-fff4-e3a62a38d6b6"
      },
      "execution_count": 2,
      "outputs": [
        {
          "output_type": "stream",
          "name": "stdout",
          "text": [
            "The area of rectangle is= 20\n"
          ]
        }
      ]
    },
    {
      "cell_type": "code",
      "source": [
        "#2 Create a function that converts temperature from Celsius to Fahrenheit.\n",
        "\n",
        "\n",
        "def celsius_to_farenheit(celsius):\n",
        "  celsius= int(input(\"Enter temperature in Celsius(°C): \"))\n",
        "  farenheit= (celsius*(9/5)+32)\n",
        "  return print(\"Temperature in Farenheit is\",farenheit,'F')"
      ],
      "metadata": {
        "id": "h4aEZOVzPlBD"
      },
      "execution_count": 3,
      "outputs": []
    },
    {
      "cell_type": "code",
      "source": [
        "celsius_to_farenheit(20)"
      ],
      "metadata": {
        "colab": {
          "base_uri": "https://localhost:8080/"
        },
        "id": "vXnfXBwAQqQY",
        "outputId": "ee98f89a-2ef7-4f1c-e26e-85040dafabd2"
      },
      "execution_count": 4,
      "outputs": [
        {
          "output_type": "stream",
          "name": "stdout",
          "text": [
            "Enter temperature in Celsius(°C): 20\n",
            "Temperature in Farenheit is 68.0 F\n"
          ]
        }
      ]
    },
    {
      "cell_type": "code",
      "source": [
        "#3 Write a function to find the factorial of a number.\n",
        "def factorial(n):\n",
        "  f=1\n",
        "  for i in range(1,n+1):\n",
        "    f=f*i\n",
        "  return print('The factorial is',f )"
      ],
      "metadata": {
        "id": "s6842yXdQ4Qh"
      },
      "execution_count": 7,
      "outputs": []
    },
    {
      "cell_type": "code",
      "source": [
        "factorial(5)"
      ],
      "metadata": {
        "colab": {
          "base_uri": "https://localhost:8080/"
        },
        "id": "eCJcKZ93RWEk",
        "outputId": "9e0de26d-9a94-49a0-8ccd-f9617d2830c0"
      },
      "execution_count": 8,
      "outputs": [
        {
          "output_type": "stream",
          "name": "stdout",
          "text": [
            "The factorial is 120\n"
          ]
        }
      ]
    }
  ]
}
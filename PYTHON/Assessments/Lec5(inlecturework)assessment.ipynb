{
  "nbformat": 4,
  "nbformat_minor": 0,
  "metadata": {
    "colab": {
      "provenance": []
    },
    "kernelspec": {
      "name": "python3",
      "display_name": "Python 3"
    },
    "language_info": {
      "name": "python"
    }
  },
  "cells": [
    {
      "cell_type": "code",
      "execution_count": null,
      "metadata": {
        "id": "rkyFFpalirk4"
      },
      "outputs": [],
      "source": [
        "my_list= set()\n",
        "my_set= {1,2,3}"
      ]
    },
    {
      "cell_type": "code",
      "source": [],
      "metadata": {
        "id": "x8n8LnuXxv0K"
      },
      "execution_count": null,
      "outputs": []
    },
    {
      "cell_type": "code",
      "source": [
        "my_set.update([2,3,4])\n",
        "print(my_set)"
      ],
      "metadata": {
        "colab": {
          "base_uri": "https://localhost:8080/"
        },
        "id": "mq9N77-Oxv3d",
        "outputId": "02ca5967-07d3-4ca2-9923-640e532db4b6"
      },
      "execution_count": null,
      "outputs": [
        {
          "output_type": "stream",
          "name": "stdout",
          "text": [
            "{1, 2, 3, 4}\n"
          ]
        }
      ]
    },
    {
      "cell_type": "code",
      "source": [],
      "metadata": {
        "id": "sZKN7GfAyY3r"
      },
      "execution_count": null,
      "outputs": []
    },
    {
      "cell_type": "markdown",
      "source": [
        "Union ()\n",
        "\n",
        "\n",
        "*   Union() method return the union of two sets\n",
        "*   Also denoted by the operator |\n",
        "\n"
      ],
      "metadata": {
        "id": "tLCkzfSCygak"
      }
    },
    {
      "cell_type": "code",
      "source": [
        "A= {1,2,3,4,5}\n",
        "B= {4,5,6,7,8}\n",
        "print(A.union(B))\n",
        "A|B"
      ],
      "metadata": {
        "colab": {
          "base_uri": "https://localhost:8080/"
        },
        "id": "1POxcIdoyY7G",
        "outputId": "659f8f69-d3a9-4251-c670-9f835ad67361"
      },
      "execution_count": null,
      "outputs": [
        {
          "output_type": "stream",
          "name": "stdout",
          "text": [
            "{1, 2, 3, 4, 5, 6, 7, 8}\n"
          ]
        },
        {
          "output_type": "execute_result",
          "data": {
            "text/plain": [
              "{1, 2, 3, 4, 5, 6, 7, 8}"
            ]
          },
          "metadata": {},
          "execution_count": 7
        }
      ]
    },
    {
      "cell_type": "markdown",
      "source": [
        "Intersection()\n",
        "\n",
        "*   Returns intersection of two sets\n",
        "*   denoted by operator &\n",
        "\n"
      ],
      "metadata": {
        "id": "9XHs9CoAzk_u"
      }
    },
    {
      "cell_type": "code",
      "source": [
        "print(A.intersection(B))\n",
        "A&B"
      ],
      "metadata": {
        "colab": {
          "base_uri": "https://localhost:8080/"
        },
        "id": "Vs9ndxfNyZCn",
        "outputId": "e4e3c239-2275-4ed7-a616-c22282dd5eba"
      },
      "execution_count": null,
      "outputs": [
        {
          "output_type": "stream",
          "name": "stdout",
          "text": [
            "{4, 5}\n"
          ]
        },
        {
          "output_type": "execute_result",
          "data": {
            "text/plain": [
              "{4, 5}"
            ]
          },
          "metadata": {},
          "execution_count": 8
        }
      ]
    },
    {
      "cell_type": "markdown",
      "source": [
        "Difference()\n",
        "\n",
        "\n",
        "*   Returns difference between two sets [A-B]\n",
        "*   also denoted by operator -\n",
        "*   Difference of set B from set A, i.e. (A-B) is a set of elements that are only in A.\n",
        "\n"
      ],
      "metadata": {
        "id": "w67kY_jmz-_s"
      }
    },
    {
      "cell_type": "code",
      "source": [
        "print(A.difference(B))\n",
        "A-B"
      ],
      "metadata": {
        "colab": {
          "base_uri": "https://localhost:8080/"
        },
        "id": "c7RJf7tJyZGM",
        "outputId": "d10e4c41-cb47-4628-f7d3-80579885452d"
      },
      "execution_count": null,
      "outputs": [
        {
          "output_type": "stream",
          "name": "stdout",
          "text": [
            "{1, 2, 3}\n"
          ]
        },
        {
          "output_type": "execute_result",
          "data": {
            "text/plain": [
              "{1, 2, 3}"
            ]
          },
          "metadata": {},
          "execution_count": 9
        }
      ]
    },
    {
      "cell_type": "code",
      "source": [
        "B.difference(A)"
      ],
      "metadata": {
        "colab": {
          "base_uri": "https://localhost:8080/"
        },
        "id": "tD6Q3LNQ0wcE",
        "outputId": "15f31325-4d78-4ea6-8fcf-927bb443000f"
      },
      "execution_count": null,
      "outputs": [
        {
          "output_type": "execute_result",
          "data": {
            "text/plain": [
              "{6, 7, 8}"
            ]
          },
          "metadata": {},
          "execution_count": 10
        }
      ]
    },
    {
      "cell_type": "code",
      "source": [
        "B-A"
      ],
      "metadata": {
        "colab": {
          "base_uri": "https://localhost:8080/"
        },
        "id": "ZCSlECxM01Hv",
        "outputId": "4499efba-6c74-4233-cc07-a81b05c96639"
      },
      "execution_count": null,
      "outputs": [
        {
          "output_type": "execute_result",
          "data": {
            "text/plain": [
              "{6, 7, 8}"
            ]
          },
          "metadata": {},
          "execution_count": 11
        }
      ]
    },
    {
      "cell_type": "markdown",
      "source": [],
      "metadata": {
        "id": "CWF74Z7H07Nr"
      }
    },
    {
      "cell_type": "code",
      "source": [
        "A.symmetric_difference(B)"
      ],
      "metadata": {
        "colab": {
          "base_uri": "https://localhost:8080/"
        },
        "id": "LiB7nwm907ic",
        "outputId": "315211ad-6690-4a9a-e7e1-0ddc4e7d11e4"
      },
      "execution_count": null,
      "outputs": [
        {
          "output_type": "execute_result",
          "data": {
            "text/plain": [
              "{1, 2, 3, 6, 7, 8}"
            ]
          },
          "metadata": {},
          "execution_count": 12
        }
      ]
    },
    {
      "cell_type": "code",
      "source": [
        "A^B"
      ],
      "metadata": {
        "colab": {
          "base_uri": "https://localhost:8080/"
        },
        "id": "MU6GNq_81AvC",
        "outputId": "0394e2b0-437c-432d-9b24-b9fd4fd3b9cb"
      },
      "execution_count": null,
      "outputs": [
        {
          "output_type": "execute_result",
          "data": {
            "text/plain": [
              "{1, 2, 3, 6, 7, 8}"
            ]
          },
          "metadata": {},
          "execution_count": 13
        }
      ]
    }
  ]
}
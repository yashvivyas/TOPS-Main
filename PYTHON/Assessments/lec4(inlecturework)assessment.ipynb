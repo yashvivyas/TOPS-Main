{
  "nbformat": 4,
  "nbformat_minor": 0,
  "metadata": {
    "colab": {
      "provenance": []
    },
    "kernelspec": {
      "name": "python3",
      "display_name": "Python 3"
    },
    "language_info": {
      "name": "python"
    }
  },
  "cells": [
    {
      "cell_type": "markdown",
      "source": [
        "1.\tWrite a Python program to sum all the elements in a list.\n",
        "2.\tWrite a Python program to find the largest element in a list.\n",
        "3.\tWrite a Python program to count the number of elements in a list.\n",
        "4.\tWrite a Python program to find the average of elements in a list.\n",
        "5.\tWrite a Python program to reverse a list.\n",
        "6.\tWrite a Python program to check if a given element exists in a list.\n",
        "7.\tWrite a Python program to remove duplicate elements from a list.\n",
        "8.\tWrite a Python program to find the second largest element in a list.\n",
        "9.\tWrite a Python program to sort elements in a list in ascending order.\n",
        "10.\tWrite a Python program to merge two lists and sort them.\n",
        "11.\tQuestion: Given a nested list nested_list_row = [[1, 2, 3], [4, 5, 6], [7, 8, 9]], how can you access the number 9 from the list? Write a Python program to achieve this.\n",
        "12.\tQuestion: Suppose you have a nested list nested_list_column = [[1, 2, 3], [4, 5, 6], [7, 8, 9]], how can you access the number 8 from the list? Write a Python program to achieve this.\n",
        "13.\tQuestion: How can you access the number 100 from the nested list nested_list_column = [[1, 2, 3], [4, 5, 6], [7, 8, 9,[1,55,77,100]]?\n",
        "14.\tQuestion: How can you access the number 100 from the nested list nested_list_column = [[1, 2, 3], [4, 5, 6], [7, 8, 9, [1,55,77,100]] using negative indexing?"
      ],
      "metadata": {
        "id": "iC6Imgnt-dTo"
      }
    },
    {
      "cell_type": "markdown",
      "source": [
        "1.Write a Python program to sum all the elements in a list."
      ],
      "metadata": {
        "id": "hzhHFLap-gnQ"
      }
    },
    {
      "cell_type": "code",
      "execution_count": null,
      "metadata": {
        "colab": {
          "base_uri": "https://localhost:8080/"
        },
        "id": "SYOlRlGl-Shb",
        "outputId": "ad8480cb-0625-4c2c-90a1-cfd912eb8b6b"
      },
      "outputs": [
        {
          "output_type": "stream",
          "name": "stdout",
          "text": [
            "[1, 2, 3, 4, 5, 6, 7, 8, 9, 10]\n"
          ]
        }
      ],
      "source": [
        "list1=[1,2,3,4,5,6,7,8,9,10]\n",
        "print(list1)"
      ]
    },
    {
      "cell_type": "markdown",
      "source": [
        "2.Write a Python program to find the largest element in a list."
      ],
      "metadata": {
        "id": "U4Kl4JSo-3Q6"
      }
    },
    {
      "cell_type": "code",
      "source": [
        "list1=[1,2,3,4,5,6,7,8,9,10]\n",
        "print(max(list1))"
      ],
      "metadata": {
        "colab": {
          "base_uri": "https://localhost:8080/"
        },
        "id": "xQ-Xxnv4-58n",
        "outputId": "3e7d9230-c8c5-4d0c-835e-42caa2d098d5"
      },
      "execution_count": null,
      "outputs": [
        {
          "output_type": "stream",
          "name": "stdout",
          "text": [
            "10\n"
          ]
        }
      ]
    },
    {
      "cell_type": "markdown",
      "source": [
        "3.Write a Python program to count the number of elements in a list."
      ],
      "metadata": {
        "id": "O25JpZiT-6Th"
      }
    },
    {
      "cell_type": "code",
      "source": [
        "print(len(list1))"
      ],
      "metadata": {
        "colab": {
          "base_uri": "https://localhost:8080/"
        },
        "id": "TAWWp5xW-6gr",
        "outputId": "74de4e43-3b6c-473a-eb3e-d4549d1d2100"
      },
      "execution_count": null,
      "outputs": [
        {
          "output_type": "stream",
          "name": "stdout",
          "text": [
            "10\n"
          ]
        }
      ]
    },
    {
      "cell_type": "markdown",
      "source": [
        "4.Write a Python program to find the average of elements in a list."
      ],
      "metadata": {
        "id": "5a54hMj7-639"
      }
    },
    {
      "cell_type": "code",
      "source": [
        "average4= sum(list1)/len(list1)\n",
        "print(average4)"
      ],
      "metadata": {
        "colab": {
          "base_uri": "https://localhost:8080/"
        },
        "id": "h9BqGCcT-7FJ",
        "outputId": "5852ac1e-6515-4c94-80ec-562d77c988dd"
      },
      "execution_count": null,
      "outputs": [
        {
          "output_type": "stream",
          "name": "stdout",
          "text": [
            "5.5\n"
          ]
        }
      ]
    },
    {
      "cell_type": "markdown",
      "source": [
        "5.Write a Python program to reverse a list."
      ],
      "metadata": {
        "id": "SbUYg0uH-7R1"
      }
    },
    {
      "cell_type": "code",
      "source": [
        "list1=[1,2,3,4,5,6,7,8,9,10]\n",
        "print(sorted(list1, reverse=True))"
      ],
      "metadata": {
        "colab": {
          "base_uri": "https://localhost:8080/"
        },
        "id": "PFZjzmoL-7eM",
        "outputId": "270a7cab-fea4-4c49-b0af-c11d8d9b501d"
      },
      "execution_count": null,
      "outputs": [
        {
          "output_type": "stream",
          "name": "stdout",
          "text": [
            "[10, 9, 8, 7, 6, 5, 4, 3, 2, 1]\n"
          ]
        }
      ]
    },
    {
      "cell_type": "markdown",
      "source": [
        "6.Write a Python program to check if a given element exists in a list."
      ],
      "metadata": {
        "id": "WUHH_B9D_3t2"
      }
    },
    {
      "cell_type": "code",
      "source": [
        "list1=[1,2,3,4,5,6,7,8,9,10]\n",
        "givenelement= 4\n",
        "if givenelement in list1:\n",
        "  print(True)\n",
        "else:\n",
        "  print(False)"
      ],
      "metadata": {
        "colab": {
          "base_uri": "https://localhost:8080/"
        },
        "id": "mUatxQTP_7SU",
        "outputId": "cca8f7ed-bbaf-4405-9474-1b696eda3648"
      },
      "execution_count": null,
      "outputs": [
        {
          "output_type": "stream",
          "name": "stdout",
          "text": [
            "True\n"
          ]
        }
      ]
    },
    {
      "cell_type": "markdown",
      "source": [
        "7.Write a Python program to remove duplicate elements from a list."
      ],
      "metadata": {
        "id": "l3li9iTn_7p9"
      }
    },
    {
      "cell_type": "code",
      "source": [
        "list7=[1,2,3,4,1,1,1,2,2,3,4,5,5,6,]\n"
      ],
      "metadata": {
        "id": "SkMMxqKYC1_x"
      },
      "execution_count": null,
      "outputs": []
    },
    {
      "cell_type": "code",
      "source": [
        "#REMOVE ALL DUPLICATE ELEMENTS\n",
        "list8= set(list7)\n",
        "print(list8)"
      ],
      "metadata": {
        "colab": {
          "base_uri": "https://localhost:8080/"
        },
        "id": "dz2WShYpDUJ5",
        "outputId": "34751f75-114f-4bc5-c40b-5f60d8afa401"
      },
      "execution_count": null,
      "outputs": [
        {
          "output_type": "stream",
          "name": "stdout",
          "text": [
            "{1, 2, 3, 4, 5, 6}\n"
          ]
        }
      ]
    },
    {
      "cell_type": "markdown",
      "source": [
        "8.Write a Python program to find the second largest element in a list."
      ],
      "metadata": {
        "id": "Rnbuoy6fC3I-"
      }
    },
    {
      "cell_type": "code",
      "source": [
        "list1=[1,2,3,4,5,6,7,8,9,10]\n",
        "list8= sorted(list1)\n",
        "print(list8[-2])"
      ],
      "metadata": {
        "colab": {
          "base_uri": "https://localhost:8080/"
        },
        "id": "qKPGAC8vC3YO",
        "outputId": "7b72a5a4-e2f3-4d6c-d309-d070855e74fb"
      },
      "execution_count": null,
      "outputs": [
        {
          "output_type": "stream",
          "name": "stdout",
          "text": [
            "9\n"
          ]
        }
      ]
    },
    {
      "cell_type": "markdown",
      "source": [
        "9.Write a Python program to sort elements in a list in ascending order."
      ],
      "metadata": {
        "id": "KDGjgDRkC3jq"
      }
    },
    {
      "cell_type": "code",
      "source": [
        "list9=[4,3,8,11,10,24,53,66,100]\n",
        "print(sorted(list9))"
      ],
      "metadata": {
        "colab": {
          "base_uri": "https://localhost:8080/"
        },
        "id": "SWVJyM-dC3wC",
        "outputId": "d6ca1ee6-b64b-475e-d346-91b1831e9afe"
      },
      "execution_count": null,
      "outputs": [
        {
          "output_type": "stream",
          "name": "stdout",
          "text": [
            "[3, 4, 8, 10, 11, 24, 53, 66, 100]\n"
          ]
        }
      ]
    },
    {
      "cell_type": "markdown",
      "source": [
        "10.Write a Python program to merge two lists and sort them."
      ],
      "metadata": {
        "id": "5PDeYUL4C38J"
      }
    },
    {
      "cell_type": "code",
      "source": [
        "list10_1= [1,2,3]\n",
        "list10_2= [6,5,4]\n",
        "list10_3= list10_1+list10_2\n",
        "print(sorted(list10_3))"
      ],
      "metadata": {
        "colab": {
          "base_uri": "https://localhost:8080/"
        },
        "id": "yTZVtv4TC4Hr",
        "outputId": "8de76e0e-dd70-4d7c-a70b-8992797ac9d7"
      },
      "execution_count": null,
      "outputs": [
        {
          "output_type": "stream",
          "name": "stdout",
          "text": [
            "[1, 2, 3, 4, 5, 6]\n"
          ]
        }
      ]
    },
    {
      "cell_type": "markdown",
      "source": [
        "11.Question: Given a nested list nested_list_row = [[1, 2, 3], [4, 5, 6], [7, 8, 9]], how can you access the number 9 from the list? Write a Python program to achieve this."
      ],
      "metadata": {
        "id": "0zgJCV96Ehla"
      }
    },
    {
      "cell_type": "code",
      "source": [
        "nested_list_row = [[1, 2, 3], [4, 5, 6], [7, 8, 9]]\n",
        "print(nested_list_row[-1][-1])"
      ],
      "metadata": {
        "colab": {
          "base_uri": "https://localhost:8080/"
        },
        "id": "MjrXcJoZEhyE",
        "outputId": "aaa39fee-f9a4-4795-cd74-544aebef1500"
      },
      "execution_count": null,
      "outputs": [
        {
          "output_type": "stream",
          "name": "stdout",
          "text": [
            "9\n"
          ]
        }
      ]
    },
    {
      "cell_type": "markdown",
      "source": [
        "12.Question: Suppose you have a nested list nested_list_column = [[1, 2, 3], [4, 5, 6], [7, 8, 9]], how can you access the number 8 from the list? Write a Python program to achieve this."
      ],
      "metadata": {
        "id": "4j0Cv6wVEiG1"
      }
    },
    {
      "cell_type": "code",
      "source": [
        "nested_list_column = [[1, 2, 3], [4, 5, 6], [7, 8, 9]]\n",
        "print(nested_list_column[-1][-2])"
      ],
      "metadata": {
        "colab": {
          "base_uri": "https://localhost:8080/"
        },
        "id": "sIw0SO_oEiWf",
        "outputId": "ece1fb41-4d3e-42d7-b29e-39d7b7abae71"
      },
      "execution_count": null,
      "outputs": [
        {
          "output_type": "stream",
          "name": "stdout",
          "text": [
            "8\n"
          ]
        }
      ]
    },
    {
      "cell_type": "markdown",
      "source": [
        "13.Question: How can you access the number 100 from the nested list nested_list_column = [[1, 2, 3], [4, 5, 6], [7, 8, 9,[1,55,77,100]]?"
      ],
      "metadata": {
        "id": "ah7wJSRGEilk"
      }
    },
    {
      "cell_type": "code",
      "source": [
        "nested_list_column = [[1, 2, 3], [4, 5, 6], [7, 8, 9],[1,55,77,100]]\n",
        "print(nested_list_column[-1][-1])"
      ],
      "metadata": {
        "colab": {
          "base_uri": "https://localhost:8080/"
        },
        "id": "LBNfl2FLEixz",
        "outputId": "cbc29521-28cd-40bb-929b-205b422af336"
      },
      "execution_count": null,
      "outputs": [
        {
          "output_type": "stream",
          "name": "stdout",
          "text": [
            "100\n"
          ]
        }
      ]
    },
    {
      "cell_type": "markdown",
      "source": [
        "14.Question: How can you access the number 100 from the nested list nested_list_column = [[1, 2, 3], [4, 5, 6], [7, 8, 9, [1,55,77,100]] using negative indexing?"
      ],
      "metadata": {
        "id": "ixJY5NESEi-G"
      }
    },
    {
      "cell_type": "code",
      "source": [
        "nested_list_column = [[1, 2, 3], [4, 5, 6], [7, 8, 9],[1,55,77,100]]\n",
        "print(nested_list_column[-1][-1])"
      ],
      "metadata": {
        "colab": {
          "base_uri": "https://localhost:8080/"
        },
        "id": "k14bkmK9EjKA",
        "outputId": "21b96855-df56-4c73-a074-bb8ca5f7b6fc"
      },
      "execution_count": null,
      "outputs": [
        {
          "output_type": "stream",
          "name": "stdout",
          "text": [
            "100\n"
          ]
        }
      ]
    }
  ]
}
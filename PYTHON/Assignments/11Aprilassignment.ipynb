{
  "nbformat": 4,
  "nbformat_minor": 0,
  "metadata": {
    "colab": {
      "provenance": []
    },
    "kernelspec": {
      "name": "python3",
      "display_name": "Python 3"
    },
    "language_info": {
      "name": "python"
    }
  },
  "cells": [
    {
      "cell_type": "markdown",
      "source": [
        "1. Given a list [4, 8, 2, 10, 6], find the maximum number using a for loop.\n",
        "2. Take input from the user and find the factorial of the number using a for loop.\n",
        "3. Given a list ['apple', 'banana', 'cherry', 'date', 'fig'], print each element along with its\n",
        " index using a for loop.\n",
        "4. Take a string input from the user and count the number of uppercase letters using a\n",
        " for loop.(use char.isupper() )\n",
        "5. Given a list of integers [17, 25, 39, 42, 58, 71, 86, 93], find the sum of all the even\n",
        " numbers using a for loop.\n",
        "6. Given a list [3, 6, 9, 12, 15], calculate the product of all the elements using a for loop.\n",
        "7. Given a list [2, 3, 5, 7, 11, 13, 17, 19], find the index of the first occurrence of the\n",
        " number 7 using a for loop.**bold text**"
      ],
      "metadata": {
        "id": "-H7bEjICExg8"
      }
    },
    {
      "cell_type": "code",
      "execution_count": null,
      "metadata": {
        "colab": {
          "base_uri": "https://localhost:8080/"
        },
        "id": "yFbdHUeOEwVJ",
        "outputId": "ff26d002-c0bf-4316-ab84-026e14d25bf8"
      },
      "outputs": [
        {
          "output_type": "stream",
          "name": "stdout",
          "text": [
            "10\n"
          ]
        }
      ],
      "source": [
        "#1 Given a list [4, 8, 2, 10, 6], find the maximum number using a for loop.\n",
        "\n",
        "a= [4, 8, 2, 10, 6]\n",
        "for i in a:\n",
        "  if i==max(a):\n",
        "    print(i)"
      ]
    },
    {
      "cell_type": "code",
      "source": [
        "#2 Take input from the user and find the factorial of the number using a for loop.\n",
        "\n",
        "\n",
        "n= int(input(\"Enter a number: \"))\n",
        "f=1\n",
        "for i in range(1,n+1):\n",
        "  f=f*i\n",
        "  i=i+1\n",
        "print('The factorial is: ',f)"
      ],
      "metadata": {
        "colab": {
          "base_uri": "https://localhost:8080/"
        },
        "id": "kX9h-dQeFs31",
        "outputId": "ea3019aa-6832-42b7-d757-0a629e94960c"
      },
      "execution_count": null,
      "outputs": [
        {
          "output_type": "stream",
          "name": "stdout",
          "text": [
            "Enter a number: 3\n",
            "The factorial is:  6\n"
          ]
        }
      ]
    },
    {
      "cell_type": "code",
      "source": [
        "#3 Given a list ['apple', 'banana', 'cherry', 'date', 'fig'], print each element along with its index using a for loop.\n",
        "\n",
        "\n",
        "fruits=['apple', 'banana', 'cherry', 'date', 'fig']\n",
        "for index,i in enumerate(fruits):\n",
        "  print(index,'-',i)"
      ],
      "metadata": {
        "id": "6zGNH4E7FtDZ",
        "colab": {
          "base_uri": "https://localhost:8080/"
        },
        "outputId": "c8c7cb6a-1bc6-4c07-998a-bc5f9c4928f5"
      },
      "execution_count": null,
      "outputs": [
        {
          "output_type": "stream",
          "name": "stdout",
          "text": [
            "0 - apple\n",
            "1 - banana\n",
            "2 - cherry\n",
            "3 - date\n",
            "4 - fig\n"
          ]
        }
      ]
    },
    {
      "cell_type": "code",
      "source": [
        "#4 Take a string input from the user and count the number of uppercase letters using a for loop.(use char.isupper() )\n",
        "#doubt\n",
        "\n",
        "c= str(input(\"Enter a string: \"))\n",
        "for i in c:\n",
        "  i=sum(c.isupper())\n",
        "print(i)"
      ],
      "metadata": {
        "id": "ZZrSe_t8FtO0",
        "colab": {
          "base_uri": "https://localhost:8080/",
          "height": 211
        },
        "outputId": "26e636b7-d990-44d9-fe50-6e9181643185"
      },
      "execution_count": 29,
      "outputs": [
        {
          "name": "stdout",
          "output_type": "stream",
          "text": [
            "Enter a string: ABCdefg\n"
          ]
        },
        {
          "output_type": "error",
          "ename": "TypeError",
          "evalue": "'bool' object is not iterable",
          "traceback": [
            "\u001b[0;31m---------------------------------------------------------------------------\u001b[0m",
            "\u001b[0;31mTypeError\u001b[0m                                 Traceback (most recent call last)",
            "\u001b[0;32m<ipython-input-29-16aa8a0e41d4>\u001b[0m in \u001b[0;36m<cell line: 5>\u001b[0;34m()\u001b[0m\n\u001b[1;32m      4\u001b[0m \u001b[0mc\u001b[0m\u001b[0;34m=\u001b[0m \u001b[0mstr\u001b[0m\u001b[0;34m(\u001b[0m\u001b[0minput\u001b[0m\u001b[0;34m(\u001b[0m\u001b[0;34m\"Enter a string: \"\u001b[0m\u001b[0;34m)\u001b[0m\u001b[0;34m)\u001b[0m\u001b[0;34m\u001b[0m\u001b[0;34m\u001b[0m\u001b[0m\n\u001b[1;32m      5\u001b[0m \u001b[0;32mfor\u001b[0m \u001b[0mi\u001b[0m \u001b[0;32min\u001b[0m \u001b[0mc\u001b[0m\u001b[0;34m:\u001b[0m\u001b[0;34m\u001b[0m\u001b[0;34m\u001b[0m\u001b[0m\n\u001b[0;32m----> 6\u001b[0;31m   \u001b[0mi\u001b[0m\u001b[0;34m=\u001b[0m\u001b[0msum\u001b[0m\u001b[0;34m(\u001b[0m\u001b[0mc\u001b[0m\u001b[0;34m.\u001b[0m\u001b[0misupper\u001b[0m\u001b[0;34m(\u001b[0m\u001b[0;34m)\u001b[0m\u001b[0;34m)\u001b[0m\u001b[0;34m\u001b[0m\u001b[0;34m\u001b[0m\u001b[0m\n\u001b[0m\u001b[1;32m      7\u001b[0m \u001b[0mprint\u001b[0m\u001b[0;34m(\u001b[0m\u001b[0mi\u001b[0m\u001b[0;34m)\u001b[0m\u001b[0;34m\u001b[0m\u001b[0;34m\u001b[0m\u001b[0m\n",
            "\u001b[0;31mTypeError\u001b[0m: 'bool' object is not iterable"
          ]
        }
      ]
    },
    {
      "cell_type": "code",
      "source": [
        "#5 Given a list of integers [17, 25, 39, 42, 58, 71, 86, 93], find the sum of all the even numbers using a for loop.\n",
        "\n",
        "d= [17, 25, 39, 42, 58, 71, 86, 93]\n",
        "sum=0\n",
        "for i in d:\n",
        "  if i%2==0:\n",
        "    sum=sum+i\n",
        "print(sum)"
      ],
      "metadata": {
        "id": "bLf7u3g-FtcK",
        "colab": {
          "base_uri": "https://localhost:8080/"
        },
        "outputId": "c119c4df-397b-4021-ce25-f4c17785cf07"
      },
      "execution_count": 36,
      "outputs": [
        {
          "output_type": "stream",
          "name": "stdout",
          "text": [
            "186\n"
          ]
        }
      ]
    },
    {
      "cell_type": "code",
      "source": [
        "#6 Given a list [3, 6, 9, 12, 15], calculate the product of all the elements using a for loop.\n",
        "\n",
        "e= [3, 6, 9, 12, 15]\n",
        "product=1\n",
        "for i in e:\n",
        "  product=product*i\n",
        "print(product)"
      ],
      "metadata": {
        "id": "EeDoTBbVFtmt",
        "colab": {
          "base_uri": "https://localhost:8080/"
        },
        "outputId": "0197e1eb-db5c-4afa-abc3-aa3e5319410b"
      },
      "execution_count": 37,
      "outputs": [
        {
          "output_type": "stream",
          "name": "stdout",
          "text": [
            "29160\n"
          ]
        }
      ]
    },
    {
      "cell_type": "code",
      "source": [
        "#7 Given a list [2, 3, 5, 7, 11, 13, 17, 19], find the index of the first occurrence of the number 7 using a for loop.bold text\n",
        "\n",
        "f= [2, 3, 5, 7, 11, 13, 17, 19]\n",
        "for index,i in enumerate(f):\n",
        "  if i==7:\n",
        "    print('Index of',i,'is',index)"
      ],
      "metadata": {
        "id": "XJa9C3l3FtxU",
        "colab": {
          "base_uri": "https://localhost:8080/"
        },
        "outputId": "e097d670-e10a-448c-881c-24e0d0a4d45e"
      },
      "execution_count": 39,
      "outputs": [
        {
          "output_type": "stream",
          "name": "stdout",
          "text": [
            "Index of 7 is 3\n"
          ]
        }
      ]
    }
  ]
}
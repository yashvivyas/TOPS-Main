{
  "nbformat": 4,
  "nbformat_minor": 0,
  "metadata": {
    "colab": {
      "provenance": []
    },
    "kernelspec": {
      "name": "python3",
      "display_name": "Python 3"
    },
    "language_info": {
      "name": "python"
    }
  },
  "cells": [
    {
      "cell_type": "markdown",
      "source": [
        "Q1 Write a Python program that accepts a string from user. Your program should create and display a new string where the first and last characters have been exchanged.\n",
        "\n",
        "For example if the user enters the string 'HELLO' then new string would be 'OELLH'"
      ],
      "metadata": {
        "id": "R7YYTlRTJGnu"
      }
    },
    {
      "cell_type": "code",
      "execution_count": null,
      "metadata": {
        "id": "xUgKDWcJJBwb",
        "colab": {
          "base_uri": "https://localhost:8080/"
        },
        "outputId": "d417d5f2-33b5-4ab4-bedc-8fce7283a883"
      },
      "outputs": [
        {
          "output_type": "stream",
          "name": "stdout",
          "text": [
            "Enter a stringYASHVI\n",
            "IASHVY\n"
          ]
        }
      ],
      "source": [
        "a=input(\"Enter a string\") #HELLO\n",
        "b=a[0] #  H\n",
        "c=a[-1] #  0\n",
        "d=a[1:-1] #  ELL\n",
        "print(c+d+b) #OELLH"
      ]
    },
    {
      "cell_type": "markdown",
      "source": [
        "Q2 Write a Python program that accepts a string from user. Your program should create a new string in reverse of first string and display it.\n",
        "\n",
        "For example if the user enters the string 'EXAM' then new string would be 'MAXE'"
      ],
      "metadata": {
        "id": "KlBKKZUfJLWy"
      }
    },
    {
      "cell_type": "code",
      "source": [
        "input1= input(\"Enter string-\")\n",
        "output1= input1[::-1]\n",
        "print(output1)"
      ],
      "metadata": {
        "id": "rGdKcBseJF_c",
        "colab": {
          "base_uri": "https://localhost:8080/"
        },
        "outputId": "242a3dd9-fdc9-4bfa-8668-dbedde674fb7"
      },
      "execution_count": null,
      "outputs": [
        {
          "output_type": "stream",
          "name": "stdout",
          "text": [
            "Enter string-bye\n",
            "eyb\n"
          ]
        }
      ]
    },
    {
      "cell_type": "markdown",
      "source": [
        "Q3 Write a Python program that accepts a string from user. Your program should create a new string by shifting one position to left.\n",
        "\n",
        "For example if the user enters the string 'examination 2021' then new string would be 'xamination 2021e'"
      ],
      "metadata": {
        "id": "vI6h0j6EJXN7"
      }
    },
    {
      "cell_type": "code",
      "source": [
        "input3= input(\"Enter String-\")\n",
        "a= input3[0]\n",
        "b= input3[1:]\n",
        "print(b+a)"
      ],
      "metadata": {
        "id": "X_yXSRYhJhyV",
        "colab": {
          "base_uri": "https://localhost:8080/"
        },
        "outputId": "a5731e0c-a1ab-43cc-99d4-7aa63a4ddd81"
      },
      "execution_count": null,
      "outputs": [
        {
          "output_type": "stream",
          "name": "stdout",
          "text": [
            "Enter String-painting\n",
            "aintingp\n"
          ]
        }
      ]
    },
    {
      "cell_type": "markdown",
      "source": [
        "Q4 Write a Python program to calculate the length of a string."
      ],
      "metadata": {
        "id": "RcpZlQ1uJiHH"
      }
    },
    {
      "cell_type": "code",
      "source": [
        "input4= input(\"Enter String-\")\n",
        "print(len(input4))"
      ],
      "metadata": {
        "id": "tYfZmeLw1J9R",
        "colab": {
          "base_uri": "https://localhost:8080/"
        },
        "outputId": "11ea9902-b74d-4f7a-d56c-7c4d6427f7e7"
      },
      "execution_count": null,
      "outputs": [
        {
          "output_type": "stream",
          "name": "stdout",
          "text": [
            "Enter String-rain\n",
            "4\n"
          ]
        }
      ]
    },
    {
      "cell_type": "markdown",
      "source": [
        "Q5 Write a Python program to get a string made of the first 2 and last 2 characters of a given string. If the string length is less than 2, return the empty string instead.\n",
        "Sample String : 'w3resource'\n",
        "Expected Result : 'w3ce'\n",
        "Sample String : 'w3'\n",
        "Expected Result : 'w3w3'\n",
        "Sample String : ' w'\n",
        "Expected Result : Empty String"
      ],
      "metadata": {
        "id": "kZ-tq4KG1KtZ"
      }
    },
    {
      "cell_type": "code",
      "source": [
        "input5= input(\"Enter String-\")\n",
        "a= input5[0]\n",
        "d= input5[-1]\n",
        "e= \"'_______'(empty string)\"\n",
        "if len(input5)>2:\n",
        "  b= input5[1]\n",
        "  c= input5[-2]\n",
        "  print(a+b+c+d)\n",
        "if len(input5)==2:\n",
        "  print(input5+input5)\n",
        "\n",
        "if len(input5)<2:\n",
        "  print(e)"
      ],
      "metadata": {
        "id": "k1UDXqBy1dlb",
        "colab": {
          "base_uri": "https://localhost:8080/"
        },
        "outputId": "6fd8171a-e7f5-419c-a39a-787685005355"
      },
      "execution_count": null,
      "outputs": [
        {
          "output_type": "stream",
          "name": "stdout",
          "text": [
            "Enter String-yo\n",
            "yoyo\n"
          ]
        }
      ]
    },
    {
      "cell_type": "markdown",
      "source": [
        "Q6 Write a Python program to add 'ing' at the end of a given string (length should be at least 3). If the given string already ends with 'ing', add 'ly' instead. If the string length of the given string is less than 3, leave it unchanged\n",
        "\n",
        "\n",
        "\n",
        "\n",
        "\n",
        "\n",
        "Sample String : 'abc'\n",
        "Expected Result : 'abcing'\n",
        "Sample String : 'string'\n",
        "Expected Result : 'stringly'"
      ],
      "metadata": {
        "id": "fLmjxBVH1dv7"
      }
    },
    {
      "cell_type": "code",
      "source": [
        "input6= input(\"Enter String-\")\n",
        "if len(input6)<3:\n",
        "  print(input6)\n",
        "elif:\n",
        "  print(input6+\"ing\")\n",
        "else:\n",
        "  print(input6 +'ly')\n",
        "  input6_2='ing'\n",
        "  input6_3='ly'\n",
        "  if input6[-4:-1]== input6_2:\n",
        "    print(\"Output will be-\",input6+input6_3)\n",
        "  else:\n",
        "    print(\"Output will be-\", input6+input6_2)"
      ],
      "metadata": {
        "id": "aDBLGj7o1xDG",
        "colab": {
          "base_uri": "https://localhost:8080/"
        },
        "outputId": "d8c099dd-0d19-4f8e-de10-f34864e98f05"
      },
      "execution_count": null,
      "outputs": [
        {
          "output_type": "stream",
          "name": "stdout",
          "text": [
            "Enter String-abhishek\n",
            "Output will be- abhisheking\n"
          ]
        }
      ]
    },
    {
      "cell_type": "code",
      "source": [
        "input6= input(\"Enter String-\")\n",
        "if len(input6)<3:\n",
        "  print(input6)\n",
        "else:\n",
        "  print(input6+\"ing\")\n",
        "if input6='ing'\n",
        "  print(input6 +'ly')"
      ],
      "metadata": {
        "colab": {
          "base_uri": "https://localhost:8080/",
          "height": 106
        },
        "id": "5R85u42BIklx",
        "outputId": "d1501a26-f89c-421f-a37d-32b1c7f98e43"
      },
      "execution_count": null,
      "outputs": [
        {
          "output_type": "error",
          "ename": "SyntaxError",
          "evalue": "invalid syntax. Maybe you meant '==' or ':=' instead of '='? (<ipython-input-10-c24688002f23>, line 6)",
          "traceback": [
            "\u001b[0;36m  File \u001b[0;32m\"<ipython-input-10-c24688002f23>\"\u001b[0;36m, line \u001b[0;32m6\u001b[0m\n\u001b[0;31m    if input6='ing'\u001b[0m\n\u001b[0m       ^\u001b[0m\n\u001b[0;31mSyntaxError\u001b[0m\u001b[0;31m:\u001b[0m invalid syntax. Maybe you meant '==' or ':=' instead of '='?\n"
          ]
        }
      ]
    },
    {
      "cell_type": "code",
      "source": [],
      "metadata": {
        "id": "zujB1CVxJK2o"
      },
      "execution_count": null,
      "outputs": []
    },
    {
      "cell_type": "code",
      "source": [
        "input6= input(\"Enter String-\")\n",
        "\n",
        "if len(input6) <= 3:\n",
        "  print(input6)\n",
        "if input6[-4:-1] == 'ing':\n",
        "    print(input6+'ly')\n",
        "else:\n",
        "  print(input6+'ing')"
      ],
      "metadata": {
        "colab": {
          "base_uri": "https://localhost:8080/"
        },
        "id": "YZsk8mZqGj8D",
        "outputId": "eb915db3-0560-4e55-9581-07f503ff8dca"
      },
      "execution_count": null,
      "outputs": [
        {
          "output_type": "stream",
          "name": "stdout",
          "text": [
            "Enter String-abhing\n",
            "abhinging\n"
          ]
        }
      ]
    },
    {
      "cell_type": "markdown",
      "source": [
        "Q7 Write a Python program to remove the nth index character from a nonempty string."
      ],
      "metadata": {
        "id": "Ni87_gWx1yAM"
      }
    },
    {
      "cell_type": "code",
      "source": [
        "input7= input(\"Enter a string-\")\n",
        "input7_2= int(input(\"Enter the order number(n) of the character to be removed-\"))\n",
        "if len(input7)<input7_2:\n",
        "  print(\"enter valid value of n\")\n",
        "\n",
        "else:\n",
        "  part1_2= input7[0:input7_2]\n",
        "  part2_2= input7[input7_2+1:]\n",
        "  print(\"With nth character removed, string is:\", part1_2+part2_2)\n"
      ],
      "metadata": {
        "id": "qQKUKvze2Kz0",
        "colab": {
          "base_uri": "https://localhost:8080/"
        },
        "outputId": "c1244be7-0e1b-4b59-8891-f6c1a5246f2e"
      },
      "execution_count": null,
      "outputs": [
        {
          "output_type": "stream",
          "name": "stdout",
          "text": [
            "Enter a string-hello\n",
            "Enter the order number(n) of the character to be removed-3\n",
            "With nth character removed, string is: helo\n"
          ]
        }
      ]
    },
    {
      "cell_type": "markdown",
      "source": [
        "Q8 Write a Python program to change a given string to a newly string where the first and last chars have been exchanged."
      ],
      "metadata": {
        "id": "JV7rvO032LvA"
      }
    },
    {
      "cell_type": "code",
      "source": [
        "a=input(\"Enter a string\")\n",
        "b=a[0]\n",
        "c=a[-1]\n",
        "d=a[1:-1]\n",
        "print(c+d+b)"
      ],
      "metadata": {
        "id": "OnyZ4Qms2TTJ",
        "colab": {
          "base_uri": "https://localhost:8080/"
        },
        "outputId": "5b55ae89-7781-4fa3-e171-93b1510c9086"
      },
      "execution_count": null,
      "outputs": [
        {
          "output_type": "stream",
          "name": "stdout",
          "text": [
            "Enter a stringhello\n",
            "oellh\n"
          ]
        }
      ]
    },
    {
      "cell_type": "markdown",
      "source": [
        "Q9 Write a Python script that takes input from the user and displays that in upper and lower cases."
      ],
      "metadata": {
        "id": "pJHJGSEt2Tk5"
      }
    },
    {
      "cell_type": "code",
      "source": [
        "input9= input(\"Enter String-\")\n",
        "a9 = input9.upper()\n",
        "b9 = input9.lower()\n",
        "print(\"String in uppercase is\", a9)\n",
        "print(\"String in lowercase is\", b9)"
      ],
      "metadata": {
        "id": "Td98QnJk26YZ",
        "colab": {
          "base_uri": "https://localhost:8080/"
        },
        "outputId": "f8f67730-3344-4e91-fe8d-d97aff17ccb5"
      },
      "execution_count": null,
      "outputs": [
        {
          "output_type": "stream",
          "name": "stdout",
          "text": [
            "Enter String-Hello\n",
            "String in uppercase is HELLO\n",
            "String in lowercase is hello\n"
          ]
        }
      ]
    },
    {
      "cell_type": "markdown",
      "source": [
        "Thank You"
      ],
      "metadata": {
        "id": "eYKOjOg626sL"
      }
    }
  ]
}
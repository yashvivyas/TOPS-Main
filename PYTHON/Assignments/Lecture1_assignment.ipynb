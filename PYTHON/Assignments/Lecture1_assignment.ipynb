{
  "nbformat": 4,
  "nbformat_minor": 0,
  "metadata": {
    "colab": {
      "provenance": []
    },
    "kernelspec": {
      "name": "python3",
      "display_name": "Python 3"
    },
    "language_info": {
      "name": "python"
    }
  },
  "cells": [
    {
      "cell_type": "markdown",
      "source": [
        "1. Write a Python program to take two numbers as input from the user and display their sum."
      ],
      "metadata": {
        "id": "AnggE6e5mpYb"
      }
    },
    {
      "cell_type": "code",
      "execution_count": null,
      "metadata": {
        "colab": {
          "base_uri": "https://localhost:8080/"
        },
        "id": "L_SQj9OqmnBM",
        "outputId": "cbffb65b-a8d1-40ff-b8fe-5757704626e1"
      },
      "outputs": [
        {
          "output_type": "stream",
          "name": "stdout",
          "text": [
            "Enter first number :10\n",
            "Enter second number :10\n",
            "Addition is: 20\n"
          ]
        }
      ],
      "source": [
        "num1= int(input(\"Enter first number :\"))\n",
        "num2= int(input(\"Enter second number :\"))\n",
        "addition= num1+num2\n",
        "print(\"Addition is:\",addition)"
      ]
    },
    {
      "cell_type": "markdown",
      "source": [
        "2. Calculate and print the midpoint of two numbers entered by the user."
      ],
      "metadata": {
        "id": "Ka5ck6cwoyEp"
      }
    },
    {
      "cell_type": "code",
      "source": [
        "num1= int(input(\"Enter first number :\"))\n",
        "num2= int(input(\"Enter second number :\"))\n",
        "addition= num1+num2\n",
        "midpoint= addition/2\n",
        "print(\"Midpoint is:\",midpoint)"
      ],
      "metadata": {
        "colab": {
          "base_uri": "https://localhost:8080/"
        },
        "id": "80phT01KoxRL",
        "outputId": "af51f1f6-e6ab-4df7-d58c-dff8c2c6bbd6"
      },
      "execution_count": null,
      "outputs": [
        {
          "output_type": "stream",
          "name": "stdout",
          "text": [
            "Enter first number :20\n",
            "Enter second number :30\n",
            "Midpoint is: 25.0\n"
          ]
        }
      ]
    },
    {
      "cell_type": "markdown",
      "source": [
        "3. Write a Python program to calculate the area of a triangle using the formula: area = 0.5 * base * height."
      ],
      "metadata": {
        "id": "nNebIvHIpPmz"
      }
    },
    {
      "cell_type": "code",
      "source": [
        "base= int(input(\"Enter length of BASE:\"))\n",
        "height= int(input(\"Enter height:\"))\n",
        "area_of_triangle= 0.5*base*height\n",
        "print(\"Area of Triangle is:\", area_of_triangle)\n"
      ],
      "metadata": {
        "colab": {
          "base_uri": "https://localhost:8080/"
        },
        "id": "71aklsGRpPGA",
        "outputId": "55bae7ed-3d86-4c70-8b06-524ebe8d1df7"
      },
      "execution_count": null,
      "outputs": [
        {
          "output_type": "stream",
          "name": "stdout",
          "text": [
            "Enter length of BASE:5\n",
            "Enter height:10\n",
            "Area of Triangle is: 25.0\n",
            "units\n"
          ]
        }
      ]
    },
    {
      "cell_type": "markdown",
      "source": [
        "4. Take three numbers as input from the user and display their product."
      ],
      "metadata": {
        "id": "WwJyvO6qrG7s"
      }
    },
    {
      "cell_type": "code",
      "source": [
        "num1= int(input(\"Enter first number :\"))\n",
        "num2= int(input(\"Enter second number :\"))\n",
        "num3= int(input(\"Enter third number :\"))\n",
        "product= num1*num2*num3\n",
        "print(\"Product of given numbers is:\",product)"
      ],
      "metadata": {
        "colab": {
          "base_uri": "https://localhost:8080/"
        },
        "id": "cJflodStrNa3",
        "outputId": "bd29c44d-b73d-48eb-8365-4eefa1991dd5"
      },
      "execution_count": null,
      "outputs": [
        {
          "output_type": "stream",
          "name": "stdout",
          "text": [
            "Enter first number :1\n",
            "Enter second number :2\n",
            "Enter third number :3\n",
            "Product of given numbers is: 6\n"
          ]
        }
      ]
    },
    {
      "cell_type": "markdown",
      "source": [
        "5. Take a number as input and display its square and cube."
      ],
      "metadata": {
        "id": "fnPAIMMar-6C"
      }
    },
    {
      "cell_type": "code",
      "source": [
        "num1= int(input(\"Enter a number :\"))\n",
        "square= num1**2\n",
        "cube= num1**3\n",
        "print(\"Square of number is:\", square)\n",
        "print(\"Cube of number is:\", cube)"
      ],
      "metadata": {
        "colab": {
          "base_uri": "https://localhost:8080/"
        },
        "id": "T5pMkO1psCj7",
        "outputId": "74a03d93-b1c6-4bde-f67f-24ff34b327ab"
      },
      "execution_count": null,
      "outputs": [
        {
          "output_type": "stream",
          "name": "stdout",
          "text": [
            "Enter a number :2\n",
            "Square of number is: 4\n",
            "Cube of number is: 8\n"
          ]
        }
      ]
    },
    {
      "cell_type": "markdown",
      "source": [
        "6. Take two numbers as input and display their quotient and remainder."
      ],
      "metadata": {
        "id": "7yGVW8sXs6Dn"
      }
    },
    {
      "cell_type": "code",
      "source": [
        "num1= int(input(\"Enter first number :\"))\n",
        "num2= int(input(\"Enter second number :\"))\n",
        "quotient= num1/num2\n",
        "remainder= num1%num2\n",
        "print(\"Quotient is:\", quotient)\n",
        "print(\"Remainder is:\", remainder)"
      ],
      "metadata": {
        "colab": {
          "base_uri": "https://localhost:8080/"
        },
        "id": "BzuMIRyKs_F9",
        "outputId": "bd243b36-3ddb-45d0-bf3d-fe745e144ebb"
      },
      "execution_count": null,
      "outputs": [
        {
          "output_type": "stream",
          "name": "stdout",
          "text": [
            "Enter first number :10\n",
            "Enter second number :5\n",
            "Quotient is: 2.0\n",
            "Remainder is: 0\n"
          ]
        }
      ]
    },
    {
      "cell_type": "markdown",
      "source": [
        "7. Take three numbers as input and display their average."
      ],
      "metadata": {
        "id": "xpymdw9IuQXS"
      }
    },
    {
      "cell_type": "code",
      "source": [
        "num1= int(input(\"Enter first number :\"))\n",
        "num2= int(input(\"Enter second number :\"))\n",
        "num3= int(input(\"Enter third number :\"))\n",
        "average= num1+num2+num3/3\n",
        "print(\"Average is:\", average)"
      ],
      "metadata": {
        "colab": {
          "base_uri": "https://localhost:8080/"
        },
        "id": "vBJqsSseuVnP",
        "outputId": "49c350a2-14e9-4649-ea98-ce83ee14996d"
      },
      "execution_count": null,
      "outputs": [
        {
          "output_type": "stream",
          "name": "stdout",
          "text": [
            "Enter first number :2\n",
            "Enter second number :20\n",
            "Enter third number :10\n",
            "Average is: 25.333333333333332\n"
          ]
        }
      ]
    },
    {
      "cell_type": "markdown",
      "source": [
        "8. Write a Python program to calculate the area of a rectangle using the formula: area = length * width."
      ],
      "metadata": {
        "id": "CGn9RY5nu9nE"
      }
    },
    {
      "cell_type": "code",
      "source": [
        "length= int(input(\"Enter length:\"))\n",
        "width= int(input(\"Enter width:\"))\n",
        "area_of_rectangle= length*width\n",
        "print(\"Area of Rectangle is:\", area_of_rectangle)"
      ],
      "metadata": {
        "colab": {
          "base_uri": "https://localhost:8080/"
        },
        "id": "F-ja_VFivBd8",
        "outputId": "3562e85a-ed43-4cf5-d16c-b27bb1762918"
      },
      "execution_count": null,
      "outputs": [
        {
          "output_type": "stream",
          "name": "stdout",
          "text": [
            "Enter length:5\n",
            "Enter width:2\n",
            "Area of Rectangle is: 10\n"
          ]
        }
      ]
    },
    {
      "cell_type": "markdown",
      "source": [
        "9. Take five numbers as input representing marks obtained and total marks. Display the percentage."
      ],
      "metadata": {
        "id": "3pYi_xbvvsHb"
      }
    },
    {
      "cell_type": "code",
      "source": [
        "print(\"Enter marks in subjects below :-\")\n",
        "num1= int(input(\"Subject1:\"))\n",
        "num2= int(input(\"Subject2:\"))\n",
        "num3= int(input(\"Subject3:\"))\n",
        "num4= int(input(\"Subject4:\"))\n",
        "num5= int(input(\"Subject5:\"))\n",
        "total_marks_obtained= num1+num2+num3+num4+num5\n",
        "total_marks= int(input(\"Enter total marks\"))\n",
        "percentage= total_marks_obtained/total_marks*100\n",
        "print(\"RESULT is\")\n",
        "print(\"total marks obtained:\", total_marks_obtained)\n",
        "print(\"percentage is\", percentage)3"
      ],
      "metadata": {
        "colab": {
          "base_uri": "https://localhost:8080/"
        },
        "id": "-bEzxFr_vxue",
        "outputId": "c14ae06b-125b-4602-ca8f-6d28a048d983"
      },
      "execution_count": null,
      "outputs": [
        {
          "output_type": "stream",
          "name": "stdout",
          "text": [
            "Enter marks in subjects below :-\n",
            "Subject1:20\n",
            "Subject2:40\n",
            "Subject3:0\n",
            "Subject4:50\n",
            "Subject5:30\n",
            "Enter total marks250\n",
            "RESULT is\n",
            "total marks obtained: 140\n",
            "percentage is 56.00000000000001\n"
          ]
        }
      ]
    }
  ]
}
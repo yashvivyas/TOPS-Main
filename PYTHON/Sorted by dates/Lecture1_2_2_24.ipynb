{
  "nbformat": 4,
  "nbformat_minor": 0,
  "metadata": {
    "colab": {
      "provenance": []
    },
    "kernelspec": {
      "name": "python3",
      "display_name": "Python 3"
    },
    "language_info": {
      "name": "python"
    }
  },
  "cells": [
    {
      "cell_type": "markdown",
      "source": [
        "1. Write a Python program to take two numbers as input from the user and display their sum."
      ],
      "metadata": {
        "id": "KSHpjw9FZtn2"
      }
    },
    {
      "cell_type": "code",
      "source": [
        "num1= int(input(\"Enter first number :\"))\n",
        "num2= int(input(\"Enter second number :\"))\n",
        "addition= num1+num2\n",
        "print(\"Addition is:\",addition)"
      ],
      "metadata": {
        "colab": {
          "base_uri": "https://localhost:8080/"
        },
        "id": "lPI6WaG7Zt50",
        "outputId": "27c58ca8-b460-425f-a7fa-5facf6c5a1f6"
      },
      "execution_count": 1,
      "outputs": [
        {
          "output_type": "stream",
          "name": "stdout",
          "text": [
            "Enter first number :2\n",
            "Enter second number :3\n",
            "Addition is: 5\n"
          ]
        }
      ]
    },
    {
      "cell_type": "markdown",
      "source": [
        "2. Calculate and print the midpoint of two numbers entered by the user."
      ],
      "metadata": {
        "id": "iaD1BKBsZuFZ"
      }
    },
    {
      "cell_type": "code",
      "source": [
        "num1= int(input(\"Enter first number :\"))\n",
        "num2= int(input(\"Enter second number :\"))\n",
        "addition= num1+num2\n",
        "midpoint= addition/2\n",
        "print(\"Midpoint is:\",midpoint)"
      ],
      "metadata": {
        "colab": {
          "base_uri": "https://localhost:8080/"
        },
        "id": "of3FnQpXZuQ1",
        "outputId": "f956ed6e-94be-4ad4-fb42-4a683f4dc428"
      },
      "execution_count": 2,
      "outputs": [
        {
          "output_type": "stream",
          "name": "stdout",
          "text": [
            "Enter first number :4\n",
            "Enter second number :6\n",
            "Midpoint is: 5.0\n"
          ]
        }
      ]
    },
    {
      "cell_type": "markdown",
      "source": [
        "3. Write a Python program to calculate the area of a triangle using the formula: area = 0.5 * base * height."
      ],
      "metadata": {
        "id": "Mkc-7CE0aF7t"
      }
    },
    {
      "cell_type": "code",
      "execution_count": 3,
      "metadata": {
        "colab": {
          "base_uri": "https://localhost:8080/"
        },
        "id": "kI3L-HbIYK3F",
        "outputId": "d33ff3e4-6ffd-4dd2-cf8c-96053af972bd"
      },
      "outputs": [
        {
          "output_type": "stream",
          "name": "stdout",
          "text": [
            "Enter length of BASE:4\n",
            "Enter height:6\n",
            "Area of Triangle is: 12.0\n"
          ]
        }
      ],
      "source": [
        "base= int(input(\"Enter length of BASE:\"))\n",
        "height= int(input(\"Enter height:\"))\n",
        "area_of_triangle= 0.5*base*height\n",
        "print(\"Area of Triangle is:\", area_of_triangle)"
      ]
    },
    {
      "cell_type": "markdown",
      "source": [
        "4. Take three numbers as input from the user and display their product."
      ],
      "metadata": {
        "id": "iL27rXj-aSlb"
      }
    },
    {
      "cell_type": "code",
      "source": [
        "num1= int(input(\"Enter first number :\"))\n",
        "num2= int(input(\"Enter second number :\"))\n",
        "num3= int(input(\"Enter third number :\"))\n",
        "product= num1*num2*num3\n",
        "print(\"Product of given numbers is:\",product)"
      ],
      "metadata": {
        "colab": {
          "base_uri": "https://localhost:8080/"
        },
        "id": "g-TLs7EYaSSe",
        "outputId": "79e81d0f-08b6-4a66-c581-7ab426ff88c7"
      },
      "execution_count": 4,
      "outputs": [
        {
          "output_type": "stream",
          "name": "stdout",
          "text": [
            "Enter first number :2\n",
            "Enter second number :3\n",
            "Enter third number :4\n",
            "Product of given numbers is: 24\n"
          ]
        }
      ]
    },
    {
      "cell_type": "markdown",
      "source": [
        "5. Take a number as input and display its square and cube."
      ],
      "metadata": {
        "id": "ysnyQckVahoJ"
      }
    },
    {
      "cell_type": "code",
      "source": [
        "num1= int(input(\"Enter a number :\"))\n",
        "square= num1**2\n",
        "cube= num1**3\n",
        "print(\"Square of number is:\", square)\n",
        "print(\"Cube of number is:\", cube)"
      ],
      "metadata": {
        "colab": {
          "base_uri": "https://localhost:8080/"
        },
        "id": "B_gftk8GaoaU",
        "outputId": "19c070f6-477a-4572-8342-53b9640922cc"
      },
      "execution_count": 5,
      "outputs": [
        {
          "output_type": "stream",
          "name": "stdout",
          "text": [
            "Enter a number :3\n",
            "Square of number is: 9\n",
            "Cube of number is: 27\n"
          ]
        }
      ]
    },
    {
      "cell_type": "markdown",
      "source": [
        "6. Take two numbers as input and display their quotient and remainder."
      ],
      "metadata": {
        "id": "3h8Zz7OgantU"
      }
    },
    {
      "cell_type": "code",
      "source": [
        "num1= int(input(\"Enter first number :\"))\n",
        "num2= int(input(\"Enter second number :\"))\n",
        "quotient= num1/num2\n",
        "remainder= num1%num2\n",
        "print(\"Quotient is:\", quotient)\n",
        "print(\"Remainder is:\", remainder)"
      ],
      "metadata": {
        "colab": {
          "base_uri": "https://localhost:8080/"
        },
        "id": "d3Qk7AWVan6Y",
        "outputId": "75384dd1-dc94-491a-d0c3-d31cf683fc83"
      },
      "execution_count": 6,
      "outputs": [
        {
          "output_type": "stream",
          "name": "stdout",
          "text": [
            "Enter first number :10\n",
            "Enter second number :5\n",
            "Quotient is: 2.0\n",
            "Remainder is: 0\n"
          ]
        }
      ]
    },
    {
      "cell_type": "markdown",
      "source": [
        "7. Take three numbers as input and display their average."
      ],
      "metadata": {
        "id": "9epw-fQWaoGH"
      }
    },
    {
      "cell_type": "code",
      "source": [
        "num1= int(input(\"Enter first number :\"))\n",
        "num2= int(input(\"Enter second number :\"))\n",
        "num3= int(input(\"Enter third number :\"))\n",
        "average= (num1+num2+num3)/3\n",
        "print(\"Average is:\", average)"
      ],
      "metadata": {
        "colab": {
          "base_uri": "https://localhost:8080/"
        },
        "id": "fXsL_xqcanZb",
        "outputId": "d31fd6cf-2649-449e-8837-27eac6e57268"
      },
      "execution_count": 9,
      "outputs": [
        {
          "output_type": "stream",
          "name": "stdout",
          "text": [
            "Enter first number :5\n",
            "Enter second number :10\n",
            "Enter third number :15\n",
            "Average is: 10.0\n"
          ]
        }
      ]
    },
    {
      "cell_type": "markdown",
      "source": [
        "8. Write a Python program to calculate the area of a rectangle using the formula: area = length * width."
      ],
      "metadata": {
        "id": "KWmyxJuebQUW"
      }
    },
    {
      "cell_type": "code",
      "source": [
        "length= int(input(\"Enter length:\"))\n",
        "width= int(input(\"Enter width:\"))\n",
        "area_of_rectangle= length*width\n",
        "print(\"Area of Rectangle is:\", area_of_rectangle)"
      ],
      "metadata": {
        "colab": {
          "base_uri": "https://localhost:8080/"
        },
        "id": "CHq4zeRIbQq3",
        "outputId": "bc7ba9d1-f917-405d-8893-838e04f411a7"
      },
      "execution_count": 10,
      "outputs": [
        {
          "output_type": "stream",
          "name": "stdout",
          "text": [
            "Enter length:5\n",
            "Enter width:3\n",
            "Area of Rectangle is: 15\n"
          ]
        }
      ]
    },
    {
      "cell_type": "markdown",
      "source": [
        "9. Take five numbers as input representing marks obtained and total marks. Display the percentage."
      ],
      "metadata": {
        "id": "o0C_WUk3bRIH"
      }
    },
    {
      "cell_type": "code",
      "source": [
        "print(\"Enter marks in subjects below :-\")\n",
        "num1= int(input(\"Subject1:\"))\n",
        "num2= int(input(\"Subject2:\"))\n",
        "num3= int(input(\"Subject3:\"))\n",
        "num4= int(input(\"Subject4:\"))\n",
        "num5= int(input(\"Subject5:\"))\n",
        "total_marks_obtained= num1+num2+num3+num4+num5\n",
        "total_marks= 100*5\n",
        "percentage= total_marks_obtained/total_marks*100\n",
        "print(\"RESULT is\")\n",
        "print(\"total marks obtained:\", total_marks_obtained)\n",
        "print(\"percentage is\", percentage)"
      ],
      "metadata": {
        "colab": {
          "base_uri": "https://localhost:8080/"
        },
        "id": "IfpKEpNTbRaD",
        "outputId": "9671f115-07e5-4ca3-cd5e-c91285e9b74d"
      },
      "execution_count": 13,
      "outputs": [
        {
          "output_type": "stream",
          "name": "stdout",
          "text": [
            "Enter marks in subjects below :-\n",
            "Subject1:78\n",
            "Subject2:89\n",
            "Subject3:90\n",
            "Subject4:93\n",
            "Subject5:88\n",
            "RESULT is\n",
            "total marks obtained: 438\n",
            "percentage is 87.6\n"
          ]
        }
      ]
    }
  ]
}
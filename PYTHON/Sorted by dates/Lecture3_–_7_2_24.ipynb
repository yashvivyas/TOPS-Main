{
  "nbformat": 4,
  "nbformat_minor": 0,
  "metadata": {
    "colab": {
      "provenance": []
    },
    "kernelspec": {
      "name": "python3",
      "display_name": "Python 3"
    },
    "language_info": {
      "name": "python"
    }
  },
  "cells": [
    {
      "cell_type": "markdown",
      "source": [
        "Q1 Write a Python program that accepts a string from user. Your program should create and display a new string where the first and last characters have been exchanged. For example if the user enters the string 'HELLO' then new string would be 'OELLH'"
      ],
      "metadata": {
        "id": "5QaxJIrDc69F"
      }
    },
    {
      "cell_type": "code",
      "source": [
        "a=input(\"Enter a string\") #HELLO\n",
        "b=a[0] #  H\n",
        "c=a[-1] #  0\n",
        "d=a[1:-1] #  ELL\n",
        "print(c+d+b) #OELLH"
      ],
      "metadata": {
        "colab": {
          "base_uri": "https://localhost:8080/"
        },
        "id": "7-pJT8BJdgcd",
        "outputId": "c1a744d8-190d-467c-b686-821c1e6c2bca"
      },
      "execution_count": 1,
      "outputs": [
        {
          "output_type": "stream",
          "name": "stdout",
          "text": [
            "Enter a stringamazing\n",
            "gmazina\n"
          ]
        }
      ]
    },
    {
      "cell_type": "markdown",
      "source": [
        "Q2 Write a Python program that accepts a string from user. Your program should create a new string in reverse of first string and display it.For example if the user enters the string 'EXAM' then new string would be 'MAXE'"
      ],
      "metadata": {
        "id": "ePjqaZw_c6_O"
      }
    },
    {
      "cell_type": "code",
      "source": [
        "input1= input(\"Enter string-\")\n",
        "output1= input1[::-1]\n",
        "print(output1)"
      ],
      "metadata": {
        "colab": {
          "base_uri": "https://localhost:8080/"
        },
        "id": "R-68y7-odpHL",
        "outputId": "366db225-6658-4ae6-c611-738ad806eef1"
      },
      "execution_count": 2,
      "outputs": [
        {
          "output_type": "stream",
          "name": "stdout",
          "text": [
            "Enter string-exam\n",
            "maxe\n"
          ]
        }
      ]
    },
    {
      "cell_type": "markdown",
      "source": [
        "Q3 Write a Python program that accepts a string from user. Your program should create a new string by shifting one position to left. For example if the user enters"
      ],
      "metadata": {
        "id": "XxGdZam5c7B0"
      }
    },
    {
      "cell_type": "code",
      "source": [
        "input3= input(\"Enter String-\")\n",
        "a= input3[0]\n",
        "b= input3[1:]\n",
        "print(b+a)"
      ],
      "metadata": {
        "colab": {
          "base_uri": "https://localhost:8080/"
        },
        "id": "n9Npgt1Wdt5h",
        "outputId": "a4b0f7e1-49ae-4aee-e57b-33a698998cac"
      },
      "execution_count": 3,
      "outputs": [
        {
          "output_type": "stream",
          "name": "stdout",
          "text": [
            "Enter String-hello\n",
            "elloh\n"
          ]
        }
      ]
    },
    {
      "cell_type": "markdown",
      "source": [
        "Q4 Write a Python program to calculate the length of a string."
      ],
      "metadata": {
        "id": "fjFNFo5-c7EU"
      }
    },
    {
      "cell_type": "code",
      "source": [
        "input4= input(\"Enter String-\")\n",
        "print(len(input4))"
      ],
      "metadata": {
        "colab": {
          "base_uri": "https://localhost:8080/"
        },
        "id": "Gp40BadNd3SV",
        "outputId": "ea500bd1-78e8-4898-eede-961cb695ee49"
      },
      "execution_count": 4,
      "outputs": [
        {
          "output_type": "stream",
          "name": "stdout",
          "text": [
            "Enter String-hello\n",
            "5\n"
          ]
        }
      ]
    },
    {
      "cell_type": "markdown",
      "source": [
        "Q5 Write a Python program to get a string made of the first 2 and last 2 characters of a given string. If the string length is less than 2, return the empty string instead. Sample String : 'w3resource' Expected Result : 'w3ce' Sample String : 'w3' Expected Result : 'w3w3' Sample String : ' w' Expected Result : Empty String"
      ],
      "metadata": {
        "id": "2PfTr99ic7G3"
      }
    },
    {
      "cell_type": "code",
      "source": [
        "input5= input(\"Enter String-\")\n",
        "a= input5[0]\n",
        "d= input5[-1]\n",
        "e= \"'_______'(empty string)\"\n",
        "if len(input5)>2:\n",
        "  b= input5[1]\n",
        "  c= input5[-2]\n",
        "  print(a+b+c+d)\n",
        "if len(input5)==2:\n",
        "  print(input5+input5)\n",
        "\n",
        "if len(input5)<2:\n",
        "  print(e)"
      ],
      "metadata": {
        "colab": {
          "base_uri": "https://localhost:8080/"
        },
        "id": "doUW4r_Ed5lu",
        "outputId": "4b354503-cf92-4303-d6ec-4664a84127e6"
      },
      "execution_count": 8,
      "outputs": [
        {
          "output_type": "stream",
          "name": "stdout",
          "text": [
            "Enter String-ayoo\n",
            "ayoo\n"
          ]
        }
      ]
    },
    {
      "cell_type": "markdown",
      "source": [
        "Q6 Write a Python program to add 'ing' at the end of a given string (length should be at least 3). If the given string already ends with 'ing', add 'ly' instead. If the string length of the given string is less than 3, leave it unchanged. Sample String : 'abc' Expected Result : 'abcing' Sample String : 'string' Expected Result : 'stringly"
      ],
      "metadata": {
        "id": "wbgLf53Gc7Jl"
      }
    },
    {
      "cell_type": "code",
      "source": [
        "input6= input(\"Enter String-\")\n",
        "if len(input6)<3:\n",
        "  print(input6)\n",
        "elif :\n",
        "  print(input6+\"ing\")\n",
        "else:\n",
        "  print(input6 +'ly')\n",
        "  input6_2='ing'\n",
        "  input6_3='ly'\n",
        "  if input6[-4:-1]== input6_2:\n",
        "    print(\"Output will be-\",input6+input6_3)\n",
        "  else:\n",
        "    print(\"Output will be-\", input6+input6_2)"
      ],
      "metadata": {
        "colab": {
          "base_uri": "https://localhost:8080/"
        },
        "id": "cyBxb4F0eEGh",
        "outputId": "386f6a65-fc60-42de-c906-718fbd58b186"
      },
      "execution_count": 10,
      "outputs": [
        {
          "output_type": "stream",
          "name": "stdout",
          "text": [
            "Enter String-amazing\n",
            "amazinging\n"
          ]
        }
      ]
    },
    {
      "cell_type": "markdown",
      "source": [
        "Q7 Write a Python program to remove the nth index character from a nonempty string."
      ],
      "metadata": {
        "id": "4jE4P0SQc7MQ"
      }
    },
    {
      "cell_type": "code",
      "source": [
        "input7= input(\"Enter a string-\")\n",
        "input7_2= int(input(\"Enter the order number(n) of the character to be removed-\"))\n",
        "if len(input7)<input7_2:\n",
        "  print(\"enter valid value of n\")\n",
        "\n",
        "else:\n",
        "  part1_2= input7[0:input7_2]\n",
        "  part2_2= input7[input7_2+1:]\n",
        "  print(\"With nth character removed, string is:\", part1_2+part2_2)"
      ],
      "metadata": {
        "id": "v7NA0WOKemh7"
      },
      "execution_count": null,
      "outputs": []
    },
    {
      "cell_type": "markdown",
      "source": [
        "Q8 Write a Python program to change a given string to a newly string where the first and last chars have been exchanged."
      ],
      "metadata": {
        "id": "C4BbOfDfc7PD"
      }
    },
    {
      "cell_type": "code",
      "source": [
        "a=input(\"Enter a string\")\n",
        "b=a[0]\n",
        "c=a[-1]\n",
        "d=a[1:-1]\n",
        "print(c+d+b)"
      ],
      "metadata": {
        "id": "MjwABscyeq3e"
      },
      "execution_count": null,
      "outputs": []
    },
    {
      "cell_type": "markdown",
      "source": [
        "Q9 Write a Python script that takes input from the user and displays that in upper and lower cases."
      ],
      "metadata": {
        "id": "AazaOJnwc7R2"
      }
    },
    {
      "cell_type": "code",
      "source": [
        "input9= input(\"Enter String-\")\n",
        "a9 = input9.upper()\n",
        "b9 = input9.lower()\n",
        "print(\"String in uppercase is\", a9)\n",
        "print(\"String in lowercase is\", b9)"
      ],
      "metadata": {
        "id": "3BVdbeuretwH"
      },
      "execution_count": null,
      "outputs": []
    }
  ]
}
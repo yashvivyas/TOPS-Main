{
  "nbformat": 4,
  "nbformat_minor": 0,
  "metadata": {
    "colab": {
      "provenance": []
    },
    "kernelspec": {
      "name": "python3",
      "display_name": "Python 3"
    },
    "language_info": {
      "name": "python"
    }
  },
  "cells": [
    {
      "cell_type": "markdown",
      "source": [
        "\n",
        "Untitled1.ipynb\n",
        "Untitled1.ipynb_\n",
        "Question 1: Write a Python program that checks whether a given number is positive, negative, or zero. Print the corresponding message. Question 2: Write a Python program that compares two numbers and prints the larger number. Question 3: Write a Python program that checks if a given string is a palindrome or not. Print \"Palindrome\" if it is, otherwise print \"Not a palindrome\". Question 4: Write a Python program that determines whether a given character is a vowel or a consonant. Print \"Vowel\" if it is a vowel, otherwise print \"Consonant\". Question 1: Write a Python program that assigns a grade to a student based on their exam score. If the score is greater than or equal to 90, assign grade \"A\"; if it is between 80 and 89, assign grade \"B\"; if it is between 70 and 79, assign grade \"C\"; if it is between 60 and 69, assign grade \"D\"; otherwise, assign grade \"F\". Question 2: Write a Python program that determines the season based on a given month. If the month is between March and May, print \"Spring\"; if it is between June and August, print \"Summer\"; if it is between September and November, print \"Autumn\"; if it is between December and February, print \"Winter\".\n",
        "Question 3: Write a Python program that calculates the shipping cost based on the weight of a package. If the weight is less than or equal to 2 kg, the shipping cost is $5; if it is between 2 kg and 5 kg, the shipping cost is $10; if it is between 5 kg and 10 kg, the shipping cost is $15; otherwise, the shipping cost is $20.\n",
        "Question 4: Write a Python program that calculates the shipping cost based on the weight of a package. If the weight is less than or equal to 2 kg, the shipping cost is $5; if it is between 2 kg and 5 kg, the shipping cost is $10; if it is between 5 kg and 10 kg, the shipping cost is $15; otherwise, the shipping cost is $20.\n",
        "Now make default purchase price as $80 and add Shipping cost\n",
        "Question 5: Write a Python program that categorizes a given temperature into different levels of hotness. If the temperature is below 0 degrees Celsius, print \"Freezing\"; if it is between 0 and 10 degrees Celsius, print \"Cold\"; if it is between 10 and 20 degrees Celsius, print \"Moderate\"; if it is between 20 and 30 degrees Celsius, print \"Warm\"; if it is above 30 degrees Celsius, print \"Hot\".\n",
        "\n"
      ],
      "metadata": {
        "id": "vZFOQF4_b-uf"
      }
    },
    {
      "cell_type": "code",
      "execution_count": null,
      "metadata": {
        "colab": {
          "base_uri": "https://localhost:8080/"
        },
        "id": "CA1rqU4Pb37o",
        "outputId": "5ea4d70d-2d65-4a33-bd85-9e71753c4745"
      },
      "outputs": [
        {
          "output_type": "stream",
          "name": "stdout",
          "text": [
            "Enter a number:0\n",
            "0 is Zero.\n"
          ]
        }
      ],
      "source": [
        "#1\n",
        "#Question 1: Write a Python program that checks whether a given number is positive, negative, or zero. Print the corresponding message\n",
        "\n",
        "\n",
        "input1 = int(input(\"Enter a number:\"))\n",
        "if input1 >0:\n",
        "\n",
        " print(input1, \"is a Positive number.\")\n",
        "if input1< 0:\n",
        " print(input1, \"is a Negative number.\")\n",
        "if input1==0:\n",
        " print(input1, \"is Zero.\")"
      ]
    },
    {
      "cell_type": "code",
      "source": [
        "#2\n",
        "#Question 2: Write a Python program that compares two numbers and prints the larger number.\n",
        "\n",
        "\n",
        "input1= int(input(\"Enter 1st number:\"))\n",
        "input2= int(input(\"Enter 2nd number:\"))\n",
        "if input1>input2:\n",
        " print(input1, \"is the greater number.\")\n",
        "else :\n",
        " print(input2, \"is the greater number.\")"
      ],
      "metadata": {
        "colab": {
          "base_uri": "https://localhost:8080/"
        },
        "id": "hBuFnmi8cNC1",
        "outputId": "b9870ad9-daa9-4ef2-ff1b-14e1ab444417"
      },
      "execution_count": null,
      "outputs": [
        {
          "output_type": "stream",
          "name": "stdout",
          "text": [
            "Enter 1st number:3\n",
            "Enter 2nd number:5\n",
            "5 is the greater number.\n"
          ]
        }
      ]
    },
    {
      "cell_type": "code",
      "source": [
        "#3\n",
        "#Question 3: Write a Python program that checks if a given string is a palindrome or not. Print \"Palindrome\" if it is, otherwise print \"Not a palindrome\".\n",
        "\n",
        "input3= input(\"Enter string:\")\n",
        "reverse3= input3[::-1]\n",
        "if input3== reverse3 :\n",
        "  print(input3,\"is a palindrome,\")\n",
        "else :\n",
        "  print(input3, \"is not a palindrome.\")"
      ],
      "metadata": {
        "colab": {
          "base_uri": "https://localhost:8080/"
        },
        "id": "-kK9YgATcS3h",
        "outputId": "3e551dde-61fc-45bc-9754-ac9d20d5bcab"
      },
      "execution_count": null,
      "outputs": [
        {
          "output_type": "stream",
          "name": "stdout",
          "text": [
            "Enter string:malayalam\n",
            "malayalam is a palindrome,\n"
          ]
        }
      ]
    },
    {
      "cell_type": "code",
      "source": [
        "#4\n",
        "#Question 4: Write a Python program that determines whether a given character is a vowel or a consonant. Print \"Vowel\" if it is a vowel, otherwise print \"Consonant\".\n",
        "\n",
        "input4= input(\"Enter string:\")\n",
        "vowel= [\"a\",\"e\",\"i\",\"o\",\"u\",\"A\",\"E\",\"I\",\"O\",\"U\"]\n",
        "if input4 in vowel :\n",
        " print(input4, \"is a vowel.\")\n",
        "else :\n",
        "  print(input4, \"is a consonant.\")"
      ],
      "metadata": {
        "colab": {
          "base_uri": "https://localhost:8080/"
        },
        "id": "R0zwzqJ_edqO",
        "outputId": "91775557-97d6-42c4-a6a5-28de911f2fab"
      },
      "execution_count": null,
      "outputs": [
        {
          "output_type": "stream",
          "name": "stdout",
          "text": [
            "Enter string:w\n",
            "w is a consonant.\n"
          ]
        }
      ]
    },
    {
      "cell_type": "markdown",
      "source": [
        "Question 1: Write a Python program that assigns a grade to a student based on their exam score. If the score is greater than or equal to 90, assign grade \"A\"; if it is between 80 and 89, assign grade \"B\"; if it is between 70 and 79, assign grade \"C\"; if it is between 60 and 69, assign grade \"D\"; otherwise, assign grade \"F\"."
      ],
      "metadata": {
        "id": "wtz_sGDZpB3E"
      }
    },
    {
      "cell_type": "code",
      "source": [
        "#5\n",
        "#\n",
        "\n",
        "\n",
        "\n",
        "input5= int(input(\"Enter your exam score[out of 100]:\"))\n",
        "if input5>=90:\n",
        "  print(\"Your grade is A.\")\n",
        "if input5<=89 and input5>=80 :\n",
        "  print(\"Your grade is B.\")\n",
        "if input5<=79 and input5>=70 :\n",
        "  print(\"Your grade is C.\")\n",
        "if input5<=69 and input5>=60 :\n",
        "  print(\"Your grade is D.\")\n",
        "elif input5<60 :\n",
        "  print(\"Your grade is F.\")"
      ],
      "metadata": {
        "colab": {
          "base_uri": "https://localhost:8080/"
        },
        "id": "ct2mHKENo5iA",
        "outputId": "16deb45a-b59e-470b-f3da-9d608bf5746f"
      },
      "execution_count": null,
      "outputs": [
        {
          "output_type": "stream",
          "name": "stdout",
          "text": [
            "Enter your exam score[out of 100]:69\n",
            "Your grade is D.\n"
          ]
        }
      ]
    },
    {
      "cell_type": "markdown",
      "source": [
        "Question 2: Write a Python program that determines the season based on a given month. If the month is between March and May, print \"Spring\"; if it is between June and August, print \"Summer\"; if it is between September and November, print \"Autumn\"; if it is between December and February, print \"Winter\"."
      ],
      "metadata": {
        "id": "EJxGaTyyqy-l"
      }
    },
    {
      "cell_type": "code",
      "source": [
        "#6\n",
        "#\n",
        "\n",
        "\n",
        "input6= input(\"Enter a string : \")\n",
        "spring= [\"march\",\"april\",\"may\",\"March\",\"April\",\"May\"]\n",
        "summer= [\"june\",\"july\",\"august\",\"June\",\"July\",\"August\"]\n",
        "autumn= [\"september\",\"october\",\"november\",\"September\",\"October\",\"November\"]\n",
        "winter= [\"december\",\"january\", \"february\",\"December\",\"January\", \"February\"]\n",
        "\n",
        "if input6 in spring :\n",
        "  print(\"The season is Spring✿\")\n",
        "if input6 in summer :\n",
        "  print(\"The season is Summer☀︎\")\n",
        "if input6 in autumn :\n",
        "  print(\"The season is Autumn𓇢𓆸\")\n",
        "elif input6 in winter :\n",
        "  print(\"The season is Winter❆\")\n"
      ],
      "metadata": {
        "colab": {
          "base_uri": "https://localhost:8080/"
        },
        "id": "VKPsVAUgq4Mb",
        "outputId": "879176bc-a536-4269-c669-b1ca0a9c6656"
      },
      "execution_count": null,
      "outputs": [
        {
          "output_type": "stream",
          "name": "stdout",
          "text": [
            "Enter a string : september\n",
            "The season is Autumn𓇢𓆸\n"
          ]
        }
      ]
    },
    {
      "cell_type": "markdown",
      "source": [
        "Question 3: Write a Python program that calculates the shipping cost based on the weight of a package. If the weight is less than or equal to 2 kg, the shipping cost is  5;ifitisbetween2kgand5kg,theshippingcostis 10; if it is between 5 kg and 10 kg, the shipping cost is  15;otherwise,theshippingcostis 20."
      ],
      "metadata": {
        "id": "u9fQpYYkviNV"
      }
    },
    {
      "cell_type": "code",
      "source": [
        "#7\n",
        "#\n",
        "\n",
        "\n",
        "\n",
        "input7= int(input(\"Enter your exam score[out of 100]:\"))\n",
        "if input7<=2:\n",
        "  print(\"The shipping cost will be 5\")\n",
        "if input7>2 and input7<=5 :\n",
        "  print(\"The shipping cost will be 10\")\n",
        "if input7>5 and input7<=10 :\n",
        "  print(\"The shipping cost will be 15\")\n",
        "elif input7>10 :\n",
        "  print(\"The shipping cost will be 20\")"
      ],
      "metadata": {
        "colab": {
          "base_uri": "https://localhost:8080/"
        },
        "id": "3Gr2msOUvlBw",
        "outputId": "8781f4e4-8176-4893-eb38-ee2d4cdc17fb"
      },
      "execution_count": null,
      "outputs": [
        {
          "output_type": "stream",
          "name": "stdout",
          "text": [
            "Enter your exam score[out of 100]:20\n",
            "The shipping cost will be 20\n"
          ]
        }
      ]
    },
    {
      "cell_type": "markdown",
      "source": [
        "Question 4: Write a Python program that calculates the shipping cost based on the weight of a package. If the weight is less than or equal to 2 kg, the shipping cost is  5;ifitisbetween2kgand5kg,theshippingcostis 10; if it is between 5 kg and 10 kg, the shipping cost is  15;otherwise,theshippingcostis 20. Now make default purchase price as $80 and add Shipping cost"
      ],
      "metadata": {
        "id": "d5RIyxHuy8Ca"
      }
    },
    {
      "cell_type": "code",
      "source": [
        "#8\n",
        "#\n",
        "\n",
        "\n",
        "input8= int(input(\"Enter weight of package(in kilograms):\"))\n",
        "default_price= 80\n",
        "if input8<=2:\n",
        "  print(\"The shipping cost will be \", default_price+5,\"$\")\n",
        "if input8>2 and input8<=5 :\n",
        "  print(\"The shipping cost will be \", default_price+10,\"$\")\n",
        "if input8>5 and input8<=10 :\n",
        "  print(\"The shipping cost will be \", default_price+15,\"$\")\n",
        "elif input8>10 :\n",
        "  print(\"The shipping cost will be \", default_price+20,\"$\")"
      ],
      "metadata": {
        "colab": {
          "base_uri": "https://localhost:8080/"
        },
        "id": "-dUpBQnhzDF7",
        "outputId": "8438b324-cb26-4301-a72c-d810bede4248"
      },
      "execution_count": null,
      "outputs": [
        {
          "output_type": "stream",
          "name": "stdout",
          "text": [
            "Enter weight of package(in kilograms):6\n",
            "The shipping cost will be  95 $\n"
          ]
        }
      ]
    },
    {
      "cell_type": "markdown",
      "source": [
        "Question 5: Write a Python program that categorizes a given temperature into different levels of hotness. If the temperature is below 0 degrees Celsius, print \"Freezing\"; if it is between 0 and 10 degrees Celsius, print \"Cold\"; if it is between 10 and 20 degrees Celsius, print \"Moderate\"; if it is between 20 and 30 degrees Celsius, print \"Warm\"; if it is above 30 degrees Celsius, print \"Hot\"."
      ],
      "metadata": {
        "id": "ZUP2lKJG1gCH"
      }
    },
    {
      "cell_type": "code",
      "source": [
        "#9\n",
        "#\n",
        "\n",
        "\n",
        "\n",
        "input9= int(input(\"Enter temperature(in degree celsius) : \"))\n",
        "if input9<=0 :\n",
        "  print(\"The temperature is FREEZING.\")\n",
        "if input9>0 and input9<=10 :\n",
        "  print(\"The temperature is COLD.\")\n",
        "if input9>10 and input9<=20 :\n",
        "  print(\"The temperature is MODERATE.\")\n",
        "if input9>20 and input9<=30 :\n",
        "  print(\"The temperature is WARM.\")\n",
        "elif input9>30 and input9<=40 :\n",
        "  print(\"The temperature is HOT.\")"
      ],
      "metadata": {
        "colab": {
          "base_uri": "https://localhost:8080/"
        },
        "id": "6mfz27t61hAS",
        "outputId": "1e03b92a-e2b9-4993-82d0-5df8a82a20fc"
      },
      "execution_count": null,
      "outputs": [
        {
          "output_type": "stream",
          "name": "stdout",
          "text": [
            "Enter temperature(in degree celsius) : 31\n",
            "The temperature is HOT.\n"
          ]
        }
      ]
    },
    {
      "cell_type": "markdown",
      "source": [
        "Question 1: Write a Python program that checks if a given number is even. If it is, print \"Even number\".\n",
        "Question 2: Write a Python program that checks if a given string contains the letter 'a'. If it does, print \"String contains 'a'\".\n",
        "Question 3: Write a Python program that checks if a given year is a leap year. If it is, print \"Leap year\".\n",
        "Question 4: Write a Python program that checks if a given number is positive. If it is, print \"Positive number\".\n",
        "Question 5: Write a Python program that checks if a given character is a vowel. If it is, print \"Vowel\".\n",
        "Question 6: Write a Python program that checks if a given number is greater than 100. If it is, print \"Greater than 100\".\n",
        "Question 7: Write a Python program that checks if a given string is empty. If it is, print \"Empty string\".\n",
        "Question 8: Write a Python program that checks if a given number is divisible by both 5 and 7. If it is, print \"Divisible by 5 and 7\".\n",
        "Question 9: Write a Python program that checks if a given list contains any negative numbers. If it does, print \"List contains negative numbers\".\n",
        "Question 10: Write a Python program that checks if a given word is a palindrome. If it is, print \"Palindrome\".\n"
      ],
      "metadata": {
        "id": "VLkdEhot-dd8"
      }
    },
    {
      "cell_type": "code",
      "source": [
        "#1\n",
        "#Question 1: Write a Python program that checks if a given number is even. If it is, print \"Even number\".\n",
        "\n",
        "\n",
        "\n",
        "in1= int(input(\"Enter a number:\"))\n",
        "if in1%2==0 :\n",
        "  print(\"Even number\")"
      ],
      "metadata": {
        "colab": {
          "base_uri": "https://localhost:8080/"
        },
        "id": "3fsTfvQa-iEY",
        "outputId": "c192de3f-ac1b-463b-8919-a941554dc177"
      },
      "execution_count": null,
      "outputs": [
        {
          "output_type": "stream",
          "name": "stdout",
          "text": [
            "Enter a number:2\n",
            "Even number\n"
          ]
        }
      ]
    },
    {
      "cell_type": "code",
      "source": [
        "#2\n",
        "#Question 2: Write a Python program that checks if a given string contains the letter 'a'. If it does, print \"String contains 'a'\".\n",
        "\n",
        "\n",
        "in2= str(input(\"Enter a string:\"))\n",
        "if \"a\" in in2:\n",
        "  print(\"String contains 'a' \")"
      ],
      "metadata": {
        "colab": {
          "base_uri": "https://localhost:8080/"
        },
        "id": "gkWjOnTE_Pzd",
        "outputId": "12160c8c-1504-45ae-994c-a55018ef82e2"
      },
      "execution_count": null,
      "outputs": [
        {
          "output_type": "stream",
          "name": "stdout",
          "text": [
            "Enter a string:happy\n",
            "String contains 'a' \n"
          ]
        }
      ]
    },
    {
      "cell_type": "code",
      "source": [
        "#3\n",
        "#Question 3: Write a Python program that checks if a given year is a leap year. If it is, print \"Leap year\".\n",
        "\n",
        "\n",
        "in3= int(input(\"Enter a year:\"))\n",
        "if in3%4==0 :\n",
        "  print(\"Leap year\")"
      ],
      "metadata": {
        "colab": {
          "base_uri": "https://localhost:8080/"
        },
        "id": "n5o0CDJYEcRz",
        "outputId": "ddf9d5b5-8496-432a-c762-2d0d7b8ac1fe"
      },
      "execution_count": null,
      "outputs": [
        {
          "output_type": "stream",
          "name": "stdout",
          "text": [
            "Enter a year:2016\n",
            "Leap year\n"
          ]
        }
      ]
    },
    {
      "cell_type": "code",
      "source": [
        "#4\n",
        "#Question 4: Write a Python program that checks if a given number is positive. If it is, print \"Positive number\".\n",
        "\n",
        "\n",
        "in4= int(input(\"Enter a number:\"))\n",
        "if in4>0 :\n",
        "  print(\"Positive number\")"
      ],
      "metadata": {
        "colab": {
          "base_uri": "https://localhost:8080/"
        },
        "id": "43pG_1cSJS8M",
        "outputId": "91443ae5-cdd4-480b-ca21-4221e4c4ac07"
      },
      "execution_count": null,
      "outputs": [
        {
          "output_type": "stream",
          "name": "stdout",
          "text": [
            "Enter a number:5\n",
            "Positive number\n"
          ]
        }
      ]
    },
    {
      "cell_type": "code",
      "source": [
        "#5\n",
        "#Question 5: Write a Python program that checks if a given character is a vowel. If it is, print \"Vowel\".\n",
        "\n",
        "\n",
        "in5= input(\"Enter string:\")\n",
        "vowel= [\"a\",\"e\",\"i\",\"o\",\"u\",\"A\",\"E\",\"I\",\"O\",\"U\"]\n",
        "if in5 in vowel :\n",
        " print(\"Vowel\")"
      ],
      "metadata": {
        "colab": {
          "base_uri": "https://localhost:8080/"
        },
        "id": "vouZPHSsJoGM",
        "outputId": "ad1c418a-69d5-402e-f9b5-ba61dca1edfa"
      },
      "execution_count": null,
      "outputs": [
        {
          "output_type": "stream",
          "name": "stdout",
          "text": [
            "Enter string:e\n",
            "Vowel\n"
          ]
        }
      ]
    },
    {
      "cell_type": "code",
      "source": [
        "#6\n",
        "#Question 6: Write a Python program that checks if a given number is greater than 100. If it is, print \"Greater than 100\".\n",
        "\n",
        "\n",
        "in6= int(input(\"Enter a number:\"))\n",
        "if in6>100 :\n",
        "  print(\"Greater than 100.\")"
      ],
      "metadata": {
        "colab": {
          "base_uri": "https://localhost:8080/"
        },
        "id": "r4kVKbQBKAty",
        "outputId": "59e94ccf-2e81-43f6-ba62-d51a0bd63f44"
      },
      "execution_count": null,
      "outputs": [
        {
          "output_type": "stream",
          "name": "stdout",
          "text": [
            "Enter a number:256\n",
            "Greater than 100.\n"
          ]
        }
      ]
    },
    {
      "cell_type": "code",
      "source": [
        "#7\n",
        "#Question 7: Write a Python program that checks if a given string is empty. If it is, print \"Empty string\".\n",
        "\n",
        "\n",
        "in7= str(input(\"Enter a string:\"))\n",
        "if in7==\"\" or in7==\" \":\n",
        "  print(\"Empty string\")"
      ],
      "metadata": {
        "colab": {
          "base_uri": "https://localhost:8080/"
        },
        "id": "KOETFHdHKRDi",
        "outputId": "366c52d1-2b90-4d00-ffaf-e305fa69b2a9"
      },
      "execution_count": null,
      "outputs": [
        {
          "output_type": "stream",
          "name": "stdout",
          "text": [
            "Enter a string: \n",
            "Empty string\n"
          ]
        }
      ]
    },
    {
      "cell_type": "code",
      "source": [
        "#8\n",
        "#Question 8: Write a Python program that checks if a given number is divisible by both 5 and 7. If it is, print \"Divisible by 5 and 7\"\n",
        "\n",
        "\n",
        "in8= int(input(\"Enter a number:\"))\n",
        "if in8%5==0 and in8%7==0 :\n",
        "  print(\"Divisible by 5 and 7\")"
      ],
      "metadata": {
        "colab": {
          "base_uri": "https://localhost:8080/"
        },
        "id": "FCQhe5tuLB9F",
        "outputId": "5a6d2f37-7957-4d7d-b111-1fed3d5ca029"
      },
      "execution_count": null,
      "outputs": [
        {
          "name": "stdout",
          "output_type": "stream",
          "text": [
            "Enter a number:20\n"
          ]
        }
      ]
    },
    {
      "cell_type": "code",
      "source": [
        "#9\n",
        "#Question 9: Write a Python program that checks if a given list contains any negative numbers. If it does, print \"List contains negative numbers\".\n",
        "#DOUBT\n",
        "\n",
        "in9= list(input(\"Enter a list: \"))\n",
        "n= len(in9)\n",
        "if <0 in in9 :\n",
        "  print(\"list contains negative numbers\")"
      ],
      "metadata": {
        "colab": {
          "base_uri": "https://localhost:8080/",
          "height": 211
        },
        "id": "dJ7DZ4U-LWii",
        "outputId": "25a689d9-7132-49fa-89a2-8b924db37128"
      },
      "execution_count": null,
      "outputs": [
        {
          "name": "stdout",
          "output_type": "stream",
          "text": [
            "Enter a list: [1,-2]\n"
          ]
        },
        {
          "output_type": "error",
          "ename": "TypeError",
          "evalue": "'<' not supported between instances of 'list' and 'int'",
          "traceback": [
            "\u001b[0;31m---------------------------------------------------------------------------\u001b[0m",
            "\u001b[0;31mTypeError\u001b[0m                                 Traceback (most recent call last)",
            "\u001b[0;32m<ipython-input-24-1b45575a1dce>\u001b[0m in \u001b[0;36m<cell line: 6>\u001b[0;34m()\u001b[0m\n\u001b[1;32m      4\u001b[0m \u001b[0min9\u001b[0m\u001b[0;34m=\u001b[0m \u001b[0mlist\u001b[0m\u001b[0;34m(\u001b[0m\u001b[0minput\u001b[0m\u001b[0;34m(\u001b[0m\u001b[0;34m\"Enter a list: \"\u001b[0m\u001b[0;34m)\u001b[0m\u001b[0;34m)\u001b[0m\u001b[0;34m\u001b[0m\u001b[0;34m\u001b[0m\u001b[0m\n\u001b[1;32m      5\u001b[0m \u001b[0mn\u001b[0m\u001b[0;34m=\u001b[0m \u001b[0mlen\u001b[0m\u001b[0;34m(\u001b[0m\u001b[0min9\u001b[0m\u001b[0;34m)\u001b[0m\u001b[0;34m\u001b[0m\u001b[0;34m\u001b[0m\u001b[0m\n\u001b[0;32m----> 6\u001b[0;31m \u001b[0;32mif\u001b[0m \u001b[0min9\u001b[0m\u001b[0;34m[\u001b[0m\u001b[0;34m:\u001b[0m\u001b[0;34m:\u001b[0m\u001b[0mn\u001b[0m\u001b[0;34m]\u001b[0m\u001b[0;34m<\u001b[0m\u001b[0;36m0\u001b[0m \u001b[0;32min\u001b[0m \u001b[0min9\u001b[0m \u001b[0;34m:\u001b[0m\u001b[0;34m\u001b[0m\u001b[0;34m\u001b[0m\u001b[0m\n\u001b[0m\u001b[1;32m      7\u001b[0m   \u001b[0mprint\u001b[0m\u001b[0;34m(\u001b[0m\u001b[0;34m\"list contains negative numbers\"\u001b[0m\u001b[0;34m)\u001b[0m\u001b[0;34m\u001b[0m\u001b[0;34m\u001b[0m\u001b[0m\n",
            "\u001b[0;31mTypeError\u001b[0m: '<' not supported between instances of 'list' and 'int'"
          ]
        }
      ]
    },
    {
      "cell_type": "code",
      "source": [
        "#10\n",
        "#Question 10: Write a Python program that checks if a given word is a palindrome. If it is, print \"Palindrome\".\n",
        "\n",
        "\n",
        "in10= input(\"Enter string:\")\n",
        "rev10= in10[::-1]\n",
        "if in10== rev10 :\n",
        "  print(\"Palindrome\")"
      ],
      "metadata": {
        "colab": {
          "base_uri": "https://localhost:8080/"
        },
        "id": "GvgP9N1SM51y",
        "outputId": "e743178f-1112-4a41-9e5e-bec3cfdbf187"
      },
      "execution_count": null,
      "outputs": [
        {
          "output_type": "stream",
          "name": "stdout",
          "text": [
            "Enter string:uwu\n",
            "Palindrome\n"
          ]
        }
      ]
    },
    {
      "cell_type": "markdown",
      "source": [
        "Question 1: Write a Python program that checks if a given number is positive. If it is, print \"Positive number\"; otherwise, print \"Negative number\".\n",
        "Question 2: Write a Python program that checks if a given string is empty. If it is, print \"Empty string\"; otherwise, print \"Non-empty string\".\n",
        "Question 3: Write a Python program that checks if a given number is even. If it is, print \"Even number\"; otherwise, print \"Odd number\".\n",
        "Question 4: Write a Python program that checks if a given character is a vowel. If it is, print \"Vowel\"; otherwise, print \"Consonant\".\n",
        "Question 5: Write a Python program that checks if a given year is a leap year. If it is, print \"Leap year\"; otherwise, print \"Not a leap year\".\n",
        "Question 6: Write a Python program that checks if a given number is divisible by 3. If it is, print \"Divisible by 3\"; otherwise, print \"Not divisible by 3\".\n",
        "Question 7: Write a Python program that checks if a given string is a palindrome. If it is, print \"Palindrome\"; otherwise, print \"Not a palindrome\".\n",
        "Question 8: Write a Python program that checks if a given list is empty. If it is, print \"Empty list\"; otherwise, print \"Non-empty list\".\n",
        "Question 9: Write a Python program that checks if a given number is greater than, less than, or equal to 50. Print the corresponding message.\n",
        "Question 10: Write a Python program that checks if a given character is an uppercase letter. If it is, print \"Uppercase\"; otherwise, print \"Lowercase\".\n"
      ],
      "metadata": {
        "id": "SLBThSYnPMXn"
      }
    },
    {
      "cell_type": "code",
      "source": [
        "#1\n",
        "\n",
        "inp1= int(input(\"Enter a number:\"))\n",
        "if inp1>0 :\n",
        "  print(\"Positive number\")\n",
        "else :\n",
        "  print(\"Negative number\")"
      ],
      "metadata": {
        "colab": {
          "base_uri": "https://localhost:8080/"
        },
        "id": "1r1s-EaVPLil",
        "outputId": "9ad18d84-d643-4f3e-8c55-eccf1e43ddd4"
      },
      "execution_count": null,
      "outputs": [
        {
          "output_type": "stream",
          "name": "stdout",
          "text": [
            "Enter a number:-1\n",
            "Negative number\n"
          ]
        }
      ]
    },
    {
      "cell_type": "code",
      "source": [
        "#2\n",
        "\n",
        "\n",
        "inp2= str(input(\"Enter a string:\"))\n",
        "if inp2==\"\" or inp2==\" \":\n",
        "  print(\"Empty string\")\n",
        "else :\n",
        "  print(\"Non-empty string\")"
      ],
      "metadata": {
        "colab": {
          "base_uri": "https://localhost:8080/"
        },
        "id": "SYLvVwidPjew",
        "outputId": "5037de92-33db-4f10-ee0e-6687a9b490a4"
      },
      "execution_count": null,
      "outputs": [
        {
          "output_type": "stream",
          "name": "stdout",
          "text": [
            "Enter a string:hallo :D\n",
            "Non-empty string\n"
          ]
        }
      ]
    },
    {
      "cell_type": "code",
      "source": [
        "#3\n",
        "\n",
        "\n",
        "inp3= int(input(\"Enter a number:\"))\n",
        "if inp3%2==0 :\n",
        "  print(\"Even number\")\n",
        "else :\n",
        "  print(\"Odd number\")"
      ],
      "metadata": {
        "colab": {
          "base_uri": "https://localhost:8080/"
        },
        "id": "drx9S74BP2fl",
        "outputId": "02f1b6f2-67ba-48af-ab84-0de2ee6a93d8"
      },
      "execution_count": null,
      "outputs": [
        {
          "output_type": "stream",
          "name": "stdout",
          "text": [
            "Enter a number:3\n",
            "Odd number\n"
          ]
        }
      ]
    },
    {
      "cell_type": "code",
      "source": [
        "#4\n",
        "\n",
        "\n",
        "inp4= input(\"Enter string:\")\n",
        "vowel4= [\"a\",\"e\",\"i\",\"o\",\"u\",\"A\",\"E\",\"I\",\"O\",\"U\"]\n",
        "if inp4 in vowel4 :\n",
        " print(\"Vowel\")\n",
        "else :\n",
        "  print(\"Consonant\")"
      ],
      "metadata": {
        "colab": {
          "base_uri": "https://localhost:8080/"
        },
        "id": "Pw_CMudnQF76",
        "outputId": "06f8804a-f20e-41fd-bc08-9a3f2c5dd307"
      },
      "execution_count": null,
      "outputs": [
        {
          "output_type": "stream",
          "name": "stdout",
          "text": [
            "Enter string:g\n",
            "Consonant\n"
          ]
        }
      ]
    },
    {
      "cell_type": "code",
      "source": [
        "#5\n",
        "\n",
        "\n",
        "inp5= int(input(\"Enter a year:\"))\n",
        "if inp5%4==0 :\n",
        "  print(\"Leap year\")\n",
        "else :\n",
        "  print(\"Not a leap year\")"
      ],
      "metadata": {
        "colab": {
          "base_uri": "https://localhost:8080/"
        },
        "id": "UwKYnMGpQaRs",
        "outputId": "61913722-ddd9-436f-9cfb-c4c1fa54ef42"
      },
      "execution_count": null,
      "outputs": [
        {
          "output_type": "stream",
          "name": "stdout",
          "text": [
            "Enter a year:2023\n",
            "Not a leap year\n"
          ]
        }
      ]
    },
    {
      "cell_type": "code",
      "source": [
        "#6\n",
        "\n",
        "\n",
        "inp6= int(input(\"Enter a number: \"))\n",
        "if inp6%3==0 :\n",
        "  print(\"Divisible by 3\")\n",
        "else :\n",
        "  print(\"Not divisible by 3\")"
      ],
      "metadata": {
        "colab": {
          "base_uri": "https://localhost:8080/"
        },
        "id": "Bq4TkLgNQtv7",
        "outputId": "275cb336-b0b1-49de-e49e-ec3136258d77"
      },
      "execution_count": null,
      "outputs": [
        {
          "output_type": "stream",
          "name": "stdout",
          "text": [
            "Enter a number: 7\n",
            "Not divisible by 3\n"
          ]
        }
      ]
    },
    {
      "cell_type": "code",
      "source": [
        "#7\n",
        "\n",
        "\n",
        "inp7= input(\"Enter string:\")\n",
        "rev7= inp7[::-1]\n",
        "if inp7== rev7 :\n",
        "  print(\"Palindrome\")\n",
        "else :\n",
        "  print(\"Not Palindrome\")"
      ],
      "metadata": {
        "colab": {
          "base_uri": "https://localhost:8080/"
        },
        "id": "9g9k8FvyRQTm",
        "outputId": "fc767276-59c9-4b3b-b520-54571f5b7dc1"
      },
      "execution_count": null,
      "outputs": [
        {
          "output_type": "stream",
          "name": "stdout",
          "text": [
            "Enter string:americayaaa\n",
            "Not Palindrome\n"
          ]
        }
      ]
    },
    {
      "cell_type": "code",
      "source": [
        "#8\n",
        "\n",
        "\n",
        "inp8= list(input(\"Enter a string:\"))\n",
        "if len(inp8)==0:\n",
        "  print(\"Empty list\")\n",
        "else :\n",
        "  print(\"Non-empty list\")"
      ],
      "metadata": {
        "colab": {
          "base_uri": "https://localhost:8080/"
        },
        "id": "AMmz44QJRxqS",
        "outputId": "d483e8c2-5e92-47bd-f9fe-5b3b421adbdf"
      },
      "execution_count": null,
      "outputs": [
        {
          "output_type": "stream",
          "name": "stdout",
          "text": [
            "Enter a string:\n",
            "Empty list\n"
          ]
        }
      ]
    },
    {
      "cell_type": "code",
      "source": [
        "#9\n",
        "\n",
        "\n",
        "inp9= int(input(\"Enter a number:\"))\n",
        "if inp9<50 :\n",
        "  print(\"Less than 50\")\n",
        "if inp9==50 :\n",
        "  print(\"Equal to 50\")\n",
        "elif inp9>50 :\n",
        "  print(\"Greater than 50\")"
      ],
      "metadata": {
        "colab": {
          "base_uri": "https://localhost:8080/"
        },
        "id": "2I8PQE_1S44t",
        "outputId": "a068b3b0-f67f-47e6-e322-09f445b941ca"
      },
      "execution_count": null,
      "outputs": [
        {
          "output_type": "stream",
          "name": "stdout",
          "text": [
            "Enter a number:51\n",
            "Greater than 50\n"
          ]
        }
      ]
    },
    {
      "cell_type": "code",
      "source": [
        "#10\n",
        "\n",
        "\n",
        "inp10= str(input(\"Enter a character: \"))\n",
        "if inp10==inp10.upper() :\n",
        "  print(\"Uppercase\")\n",
        "else :\n",
        "  print(\"Lowercase\")"
      ],
      "metadata": {
        "colab": {
          "base_uri": "https://localhost:8080/"
        },
        "id": "q5AEB69sThb-",
        "outputId": "088b6dae-adc0-4711-f27b-21fa76df4040"
      },
      "execution_count": null,
      "outputs": [
        {
          "output_type": "stream",
          "name": "stdout",
          "text": [
            "Enter a character: E\n",
            "Uppercase\n"
          ]
        }
      ]
    },
    {
      "cell_type": "markdown",
      "source": [
        "Question 1: Write a Python program that checks if a given number is positive, negative, or zero. Print the corresponding message.\n",
        "Question 2: Write a Python program that compares two numbers and prints the larger number.\n",
        "Question 3: Write a Python program that determines whether a given temperature is hot, warm, or cold. Print the corresponding message.\n",
        "Question 4: Write a Python program that checks if a given year is a leap year, a century year, or neither. Print the corresponding message.\n",
        "Question 5: Write a Python program that categorizes a given character into uppercase letter, lowercase letter, digit, or special character. Print the corresponding message.\n",
        "Question 6: Write a Python program that calculates the discount percentage based on the purchase amount. Print the corresponding discount percentage.\n",
        "Question 7: Write a Python program that checks if a given number is divisible by 2, 3, 5, or none of them. Print the corresponding message.\n",
        "Question 8: Write a Python program that determines the grade based on the percentage obtained. Print the corresponding grade.\n",
        "Question 9: Write a Python program that checks if a given number is within a specific range. Print the corresponding message.\n",
        "Question 10: Write a Python program that checks if a given string is an English word, a number, or a combination of both. Print the corresponding message."
      ],
      "metadata": {
        "id": "iMI5UIsFUJDW"
      }
    },
    {
      "cell_type": "code",
      "source": [
        "#1\n",
        "\n",
        "\n",
        "i1= int(input(\"Enter a number:\"))\n",
        "if i1>0 :\n",
        "  print(\"Positive number\")\n",
        "elif i1<0 :\n",
        "  print(\"Negative number\")\n",
        "else:\n",
        "  print(\"Zero/Null\")"
      ],
      "metadata": {
        "colab": {
          "base_uri": "https://localhost:8080/"
        },
        "id": "QjQ1fNEwX-xT",
        "outputId": "2917cccf-263a-46a7-9bb4-9f9cc0a615c6"
      },
      "execution_count": null,
      "outputs": [
        {
          "output_type": "stream",
          "name": "stdout",
          "text": [
            "Enter a number:0\n",
            "Zero/Null\n"
          ]
        }
      ]
    },
    {
      "cell_type": "code",
      "source": [
        "#2\n",
        "\n",
        "\n",
        "i2_1= int(input(\"Enter 1st number:\"))\n",
        "i2_2= int(input(\"Enter 2nd number:\"))\n",
        "if i2_1>i2_2:\n",
        "  print(i2_1, \"is greater.\")\n",
        "elif i2_1<i2_2 :\n",
        "  print(i2_2, \"is greater.\")"
      ],
      "metadata": {
        "colab": {
          "base_uri": "https://localhost:8080/"
        },
        "id": "QuGBI3HZYi6E",
        "outputId": "d6e01a7a-32d0-4668-d887-6a58dc06dd2d"
      },
      "execution_count": null,
      "outputs": [
        {
          "output_type": "stream",
          "name": "stdout",
          "text": [
            "Enter 1st number:4\n",
            "Enter 2nd number:2\n",
            "4 is greater.\n"
          ]
        }
      ]
    },
    {
      "cell_type": "code",
      "source": [
        "#3\n",
        "\n",
        "\n",
        "i3= int(input(\"Enter temperature(in degree celsius) : \"))\n",
        "if i3<=0 :\n",
        "  print(\"The temperature is COLD.\")\n",
        "if i3>0 and i3<=20 :\n",
        "  print(\"The temperature is COLD.\")\n",
        "if i3>20 and i3<=30 :\n",
        "  print(\"The temperature is WARM.\")\n",
        "elif i3>30 and i3<=40 :\n",
        "  print(\"The temperature is HOT.\")"
      ],
      "metadata": {
        "colab": {
          "base_uri": "https://localhost:8080/"
        },
        "id": "lWunzkPIZc5i",
        "outputId": "d7c11cf3-12bb-4e02-f3e4-252da2b63377"
      },
      "execution_count": null,
      "outputs": [
        {
          "output_type": "stream",
          "name": "stdout",
          "text": [
            "Enter temperature(in degree celsius) : 23\n",
            "The temperature is WARM.\n"
          ]
        }
      ]
    },
    {
      "cell_type": "code",
      "source": [
        "#4\n",
        "\n",
        "\n",
        "i4= int(input(\"Enter a year :\"))\n",
        "if i4%4==0 :\n",
        "  print(\"Leap year\")\n",
        "elif i4%100==0 :\n",
        "  print(\"Century year\")\n",
        "else :\n",
        "  print(\"Neither leap year nor century year.\")"
      ],
      "metadata": {
        "colab": {
          "base_uri": "https://localhost:8080/"
        },
        "id": "IgKGWVkzamyW",
        "outputId": "80157ea8-4849-48bb-adab-71bd7400ae64"
      },
      "execution_count": null,
      "outputs": [
        {
          "output_type": "stream",
          "name": "stdout",
          "text": [
            "Enter a year :2023\n",
            "Neither leap year nor century year.\n"
          ]
        }
      ]
    },
    {
      "cell_type": "code",
      "source": [
        "#5\n",
        "DOUBT\n",
        "\n",
        "i5= str(input(\"Enter a character : \"))\n",
        "digit= [\"1\",\"2\", \"3\", \"4\",\"5\",\"6\",\"7\",\"9\"]\n",
        "if i5==i5.upper() :\n",
        "  print(\"Uppercase character\")\n",
        "if i5==i5.lower() :\n",
        "  print(\"Lowercase character\")\n",
        "if i5 in digit :\n",
        "  print(\"Digit\")\n",
        "else :\n",
        "  print(\"Special character\")"
      ],
      "metadata": {
        "colab": {
          "base_uri": "https://localhost:8080/",
          "height": 211
        },
        "id": "T85mO762eyrC",
        "outputId": "ef6d4fad-99c5-4652-9a62-5cd0d14fc617"
      },
      "execution_count": null,
      "outputs": [
        {
          "output_type": "error",
          "ename": "NameError",
          "evalue": "name 'DOUBT' is not defined",
          "traceback": [
            "\u001b[0;31m---------------------------------------------------------------------------\u001b[0m",
            "\u001b[0;31mNameError\u001b[0m                                 Traceback (most recent call last)",
            "\u001b[0;32m<ipython-input-115-50e7dcbd5514>\u001b[0m in \u001b[0;36m<cell line: 2>\u001b[0;34m()\u001b[0m\n\u001b[1;32m      1\u001b[0m \u001b[0;31m#5\u001b[0m\u001b[0;34m\u001b[0m\u001b[0;34m\u001b[0m\u001b[0m\n\u001b[0;32m----> 2\u001b[0;31m \u001b[0mDOUBT\u001b[0m\u001b[0;34m\u001b[0m\u001b[0;34m\u001b[0m\u001b[0m\n\u001b[0m\u001b[1;32m      3\u001b[0m \u001b[0;34m\u001b[0m\u001b[0m\n\u001b[1;32m      4\u001b[0m \u001b[0mi5\u001b[0m\u001b[0;34m=\u001b[0m \u001b[0mstr\u001b[0m\u001b[0;34m(\u001b[0m\u001b[0minput\u001b[0m\u001b[0;34m(\u001b[0m\u001b[0;34m\"Enter a character : \"\u001b[0m\u001b[0;34m)\u001b[0m\u001b[0;34m)\u001b[0m\u001b[0;34m\u001b[0m\u001b[0;34m\u001b[0m\u001b[0m\n\u001b[1;32m      5\u001b[0m \u001b[0mdigit\u001b[0m\u001b[0;34m=\u001b[0m \u001b[0;34m[\u001b[0m\u001b[0;34m\"1\"\u001b[0m\u001b[0;34m,\u001b[0m\u001b[0;34m\"2\"\u001b[0m\u001b[0;34m,\u001b[0m \u001b[0;34m\"3\"\u001b[0m\u001b[0;34m,\u001b[0m \u001b[0;34m\"4\"\u001b[0m\u001b[0;34m,\u001b[0m\u001b[0;34m\"5\"\u001b[0m\u001b[0;34m,\u001b[0m\u001b[0;34m\"6\"\u001b[0m\u001b[0;34m,\u001b[0m\u001b[0;34m\"7\"\u001b[0m\u001b[0;34m,\u001b[0m\u001b[0;34m\"9\"\u001b[0m\u001b[0;34m]\u001b[0m\u001b[0;34m\u001b[0m\u001b[0;34m\u001b[0m\u001b[0m\n",
            "\u001b[0;31mNameError\u001b[0m: name 'DOUBT' is not defined"
          ]
        }
      ]
    },
    {
      "cell_type": "code",
      "source": [
        "#6\n",
        "\n",
        "\n",
        "i6= int(input(\"Enter purchase amount : \"))\n",
        "dp= \"Discount Percentage is\"\n",
        "if i6<=300 :\n",
        "  print(dp, \"3%\")\n",
        "if i6>300 and i6<=500 :\n",
        "  print(dp, \"5%\")\n",
        "if i6>500 and i6<=700 :\n",
        "  print(dp, \"7%\")\n",
        "if i6>700 and i6<=1000 :\n",
        "  print(dp, \"10%\")\n",
        "elif i6>1000 :\n",
        "  print(dp, \"20%\")\n"
      ],
      "metadata": {
        "colab": {
          "base_uri": "https://localhost:8080/"
        },
        "id": "Ol8zL-rIjOvX",
        "outputId": "9112d5b2-982f-43c3-ed3c-beeb9ed167f7"
      },
      "execution_count": null,
      "outputs": [
        {
          "output_type": "stream",
          "name": "stdout",
          "text": [
            "Enter purchase amount : 750\n",
            "Discount Percentage is 10%\n"
          ]
        }
      ]
    },
    {
      "cell_type": "code",
      "source": [
        "#7\n",
        "\n",
        "\n",
        "i7= int(input(\"Enter a number : \"))\n",
        "if i7%2==0 :\n",
        "  print(\"Divisible by 2\")\n",
        "elif i7%3==0 :\n",
        "  print(\"Divisible by 3\")\n",
        "elif i7%5==0 :\n",
        "  print(\"Divisible by 5\")\n",
        "else:\n",
        "  print(\"Divisible by none.\")"
      ],
      "metadata": {
        "colab": {
          "base_uri": "https://localhost:8080/"
        },
        "id": "RKOjzD25lFJd",
        "outputId": "90797514-6459-4c5b-a063-c17b3a4d079f"
      },
      "execution_count": null,
      "outputs": [
        {
          "output_type": "stream",
          "name": "stdout",
          "text": [
            "Enter a number : 7\n",
            "Divisible by none.\n"
          ]
        }
      ]
    },
    {
      "cell_type": "code",
      "source": [
        "#8\n",
        "\n",
        "\n",
        "i8= int(input(\"Enter your exam score[out of 100]:\"))\n",
        "if i8>=90:\n",
        "  print(\"Your grade is A.\")\n",
        "if i8<=89 and i8>=80 :\n",
        "  print(\"Your grade is B.\")\n",
        "if i8<=79 and i8>=70 :\n",
        "  print(\"Your grade is C.\")\n",
        "if i8<=69 and i8>=60 :\n",
        "  print(\"Your grade is D.\")\n",
        "elif i8<60 :\n",
        "  print(\"Your grade is F.\")"
      ],
      "metadata": {
        "colab": {
          "base_uri": "https://localhost:8080/"
        },
        "id": "SgUHxFwkm_gF",
        "outputId": "1d08d649-68db-4c04-f5db-cc66b464e3bb"
      },
      "execution_count": null,
      "outputs": [
        {
          "output_type": "stream",
          "name": "stdout",
          "text": [
            "Enter your exam score[out of 100]:40\n",
            "Your grade is F.\n"
          ]
        }
      ]
    },
    {
      "cell_type": "code",
      "source": [
        "#9\n",
        "\n",
        "print(\"Ranges are [-20,0) , [0,20]\")\n",
        "i9= int(input(\"Enter a number : \"))\n",
        "if i9<0 and i9>=-20 :\n",
        "  print(\"Range is [-20,0)\")\n",
        "elif i9>=0 and i9<=20 :\n",
        "  print(\"Range is [0,20]\")"
      ],
      "metadata": {
        "colab": {
          "base_uri": "https://localhost:8080/"
        },
        "id": "_tJJXvPdnWW8",
        "outputId": "e28588f0-2fca-4ce8-849c-11b503b07d17"
      },
      "execution_count": null,
      "outputs": [
        {
          "output_type": "stream",
          "name": "stdout",
          "text": [
            "Ranges are [-20,0) , [0,20]\n",
            "Enter a number : -10\n",
            "Range is [-20,0)\n"
          ]
        }
      ]
    },
    {
      "cell_type": "code",
      "source": [
        "#10\n",
        "DOUBT\n",
        "\n",
        "i10= str(input(\"Enter a string : \"))\n",
        "digits = ['0', '1', '2', '3', '4', '5', '6', '7', '8', '9']\n",
        "letters = ['a','b','c','d','e','f','g','h','i','j','k','l','m','n', 'o', 'p', 'q', 'r','s', 't', 'u', 'v', 'w', 'x', 'y', 'z']\n",
        "if i10 in digits :\n",
        "  print(\"Digits\")\n",
        "if i10 in letters :\n",
        "  print(\"English word\")\n",
        "elif (i10 in digits) and (i10 in letters) :\n",
        "  print(\"Combination\")"
      ],
      "metadata": {
        "colab": {
          "base_uri": "https://localhost:8080/",
          "height": 211
        },
        "id": "hpBNhji0oYfs",
        "outputId": "dfa5b313-a9b6-4354-b5bb-087faf1b3ddc"
      },
      "execution_count": null,
      "outputs": [
        {
          "output_type": "error",
          "ename": "NameError",
          "evalue": "name 'DOUBT' is not defined",
          "traceback": [
            "\u001b[0;31m---------------------------------------------------------------------------\u001b[0m",
            "\u001b[0;31mNameError\u001b[0m                                 Traceback (most recent call last)",
            "\u001b[0;32m<ipython-input-116-b7151d1ba6d8>\u001b[0m in \u001b[0;36m<cell line: 2>\u001b[0;34m()\u001b[0m\n\u001b[1;32m      1\u001b[0m \u001b[0;31m#10\u001b[0m\u001b[0;34m\u001b[0m\u001b[0;34m\u001b[0m\u001b[0m\n\u001b[0;32m----> 2\u001b[0;31m \u001b[0mDOUBT\u001b[0m\u001b[0;34m\u001b[0m\u001b[0;34m\u001b[0m\u001b[0m\n\u001b[0m\u001b[1;32m      3\u001b[0m \u001b[0;34m\u001b[0m\u001b[0m\n\u001b[1;32m      4\u001b[0m \u001b[0mi10\u001b[0m\u001b[0;34m=\u001b[0m \u001b[0mstr\u001b[0m\u001b[0;34m(\u001b[0m\u001b[0minput\u001b[0m\u001b[0;34m(\u001b[0m\u001b[0;34m\"Enter a string : \"\u001b[0m\u001b[0;34m)\u001b[0m\u001b[0;34m)\u001b[0m\u001b[0;34m\u001b[0m\u001b[0;34m\u001b[0m\u001b[0m\n\u001b[1;32m      5\u001b[0m \u001b[0mdigits\u001b[0m \u001b[0;34m=\u001b[0m \u001b[0;34m[\u001b[0m\u001b[0;34m'0'\u001b[0m\u001b[0;34m,\u001b[0m \u001b[0;34m'1'\u001b[0m\u001b[0;34m,\u001b[0m \u001b[0;34m'2'\u001b[0m\u001b[0;34m,\u001b[0m \u001b[0;34m'3'\u001b[0m\u001b[0;34m,\u001b[0m \u001b[0;34m'4'\u001b[0m\u001b[0;34m,\u001b[0m \u001b[0;34m'5'\u001b[0m\u001b[0;34m,\u001b[0m \u001b[0;34m'6'\u001b[0m\u001b[0;34m,\u001b[0m \u001b[0;34m'7'\u001b[0m\u001b[0;34m,\u001b[0m \u001b[0;34m'8'\u001b[0m\u001b[0;34m,\u001b[0m \u001b[0;34m'9'\u001b[0m\u001b[0;34m]\u001b[0m\u001b[0;34m\u001b[0m\u001b[0;34m\u001b[0m\u001b[0m\n",
            "\u001b[0;31mNameError\u001b[0m: name 'DOUBT' is not defined"
          ]
        }
      ]
    }
  ]
}